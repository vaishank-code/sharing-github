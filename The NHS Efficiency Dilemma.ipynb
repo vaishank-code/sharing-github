{
 "cells": [
  {
   "cell_type": "markdown",
   "id": "eb92d5a7",
   "metadata": {},
   "source": [
    "### LSE Data Analytics Online Career Accelerator\n",
    "\n",
    "# Course 2: Data Analytics using Python"
   ]
  },
  {
   "cell_type": "markdown",
   "id": "0ea7e113",
   "metadata": {},
   "source": [
    "## Assignment: Diagnostic Analysis using Python\n",
    "\n",
    "You’ll be working with real-world data to address a problem faced by the National Health Service (NHS). The analysis will require you to utilise Python to explore the available data, create visualisations to identify trends, and extract meaningful insights to inform decision-making. "
   ]
  },
  {
   "cell_type": "markdown",
   "id": "ef6d24b2",
   "metadata": {},
   "source": [
    "# "
   ]
  },
  {
   "cell_type": "markdown",
   "id": "0834b036",
   "metadata": {},
   "source": [
    "# Assignment activity 1"
   ]
  },
  {
   "cell_type": "markdown",
   "id": "8b40c558",
   "metadata": {},
   "source": [
    "### Plan your approach"
   ]
  },
  {
   "cell_type": "markdown",
   "id": "5d3eff75-6c22-4c5c-952c-871496a53373",
   "metadata": {},
   "source": [
    "- First, I will rewrite the assessment scenario in my own words to clearly define the main objective, which is to determine whether there has been adequate staffing capacity across the networks and to assess the actual utilisation of resources. \n",
    "- I will then review the metadata for all datasets to understand the context behind the data, including explanations for why the data appears as it does, any missing or inconsistent data, the relationships between datasets and any assumptions that need to be made. This will help ensure that my analysis is accurate and based on a clear understanding of the data. I will annotate key details from the metadata, noting important variables, categories and how different datasets connect to each other. \n",
    "- Using the key questions provided in the assessment as a foundation, I will develop additional questions that relate back to the main objective and could reveal further insights. \n",
    "- Once this groundwork is complete, I will import and clean all datasets, merge them into structured data frames and prepare them for analysis. \n",
    "- I will then systematically address each question in the assessment checklist and build upon my analysis depending on the insights that emerge.\n",
    "- Finally, I will use the findings to form evidence-based recommendations for improving staffing capacity, resource utilisation and overall service efficiency in both the short and long term."
   ]
  },
  {
   "cell_type": "markdown",
   "id": "49bb8b1d-42ae-42cb-a8a4-3450b9516c7e",
   "metadata": {},
   "source": [
    "<span style=\"color:brown\"><b>Note: I have saved the presentation figures as fig followed by a number, while additional analysis figures are named 'fig_explore'. This allows for quick cross-referencing between the report and this notebook. The figure numbering is not sequential because the narrative and insights evolved during analysis, so in some cases, figures with higher numbers appear before those with lower numbers. </b></span>"
   ]
  },
  {
   "cell_type": "markdown",
   "id": "cf29e76b-bb39-4366-a598-f1d589ef8a02",
   "metadata": {},
   "source": [
    "# "
   ]
  },
  {
   "cell_type": "markdown",
   "id": "c010a760",
   "metadata": {},
   "source": [
    "# Assignment activity 2"
   ]
  },
  {
   "cell_type": "markdown",
   "id": "550d4c5b",
   "metadata": {},
   "source": [
    "### Prepare your workstation"
   ]
  },
  {
   "cell_type": "code",
   "execution_count": 2,
   "id": "ef565e11",
   "metadata": {},
   "outputs": [],
   "source": [
    "# Import the necessary libraries.\n",
    "import pandas as pd\n",
    "import numpy as np\n",
    "\n",
    "# Optional - Ignore warnings.\n",
    "import warnings\n",
    "warnings.filterwarnings('ignore')"
   ]
  },
  {
   "cell_type": "code",
   "execution_count": 3,
   "id": "624d89f2",
   "metadata": {},
   "outputs": [
    {
     "name": "stdout",
     "output_type": "stream",
     "text": [
      "(137793, 8)\n"
     ]
    },
    {
     "data": {
      "text/html": [
       "<div>\n",
       "<style scoped>\n",
       "    .dataframe tbody tr th:only-of-type {\n",
       "        vertical-align: middle;\n",
       "    }\n",
       "\n",
       "    .dataframe tbody tr th {\n",
       "        vertical-align: top;\n",
       "    }\n",
       "\n",
       "    .dataframe thead th {\n",
       "        text-align: right;\n",
       "    }\n",
       "</style>\n",
       "<table border=\"1\" class=\"dataframe\">\n",
       "  <thead>\n",
       "    <tr style=\"text-align: right;\">\n",
       "      <th></th>\n",
       "      <th>sub_icb_location_code</th>\n",
       "      <th>sub_icb_location_ons_code</th>\n",
       "      <th>sub_icb_location_name</th>\n",
       "      <th>icb_ons_code</th>\n",
       "      <th>region_ons_code</th>\n",
       "      <th>appointment_date</th>\n",
       "      <th>actual_duration</th>\n",
       "      <th>count_of_appointments</th>\n",
       "    </tr>\n",
       "  </thead>\n",
       "  <tbody>\n",
       "    <tr>\n",
       "      <th>0</th>\n",
       "      <td>00L</td>\n",
       "      <td>E38000130</td>\n",
       "      <td>NHS North East and North Cumbria ICB - 00L</td>\n",
       "      <td>E54000050</td>\n",
       "      <td>E40000012</td>\n",
       "      <td>01-Dec-21</td>\n",
       "      <td>31-60 Minutes</td>\n",
       "      <td>364</td>\n",
       "    </tr>\n",
       "    <tr>\n",
       "      <th>1</th>\n",
       "      <td>00L</td>\n",
       "      <td>E38000130</td>\n",
       "      <td>NHS North East and North Cumbria ICB - 00L</td>\n",
       "      <td>E54000050</td>\n",
       "      <td>E40000012</td>\n",
       "      <td>01-Dec-21</td>\n",
       "      <td>21-30 Minutes</td>\n",
       "      <td>619</td>\n",
       "    </tr>\n",
       "    <tr>\n",
       "      <th>2</th>\n",
       "      <td>00L</td>\n",
       "      <td>E38000130</td>\n",
       "      <td>NHS North East and North Cumbria ICB - 00L</td>\n",
       "      <td>E54000050</td>\n",
       "      <td>E40000012</td>\n",
       "      <td>01-Dec-21</td>\n",
       "      <td>6-10 Minutes</td>\n",
       "      <td>1698</td>\n",
       "    </tr>\n",
       "    <tr>\n",
       "      <th>3</th>\n",
       "      <td>00L</td>\n",
       "      <td>E38000130</td>\n",
       "      <td>NHS North East and North Cumbria ICB - 00L</td>\n",
       "      <td>E54000050</td>\n",
       "      <td>E40000012</td>\n",
       "      <td>01-Dec-21</td>\n",
       "      <td>Unknown / Data Quality</td>\n",
       "      <td>1277</td>\n",
       "    </tr>\n",
       "    <tr>\n",
       "      <th>4</th>\n",
       "      <td>00L</td>\n",
       "      <td>E38000130</td>\n",
       "      <td>NHS North East and North Cumbria ICB - 00L</td>\n",
       "      <td>E54000050</td>\n",
       "      <td>E40000012</td>\n",
       "      <td>01-Dec-21</td>\n",
       "      <td>16-20 Minutes</td>\n",
       "      <td>730</td>\n",
       "    </tr>\n",
       "  </tbody>\n",
       "</table>\n",
       "</div>"
      ],
      "text/plain": [
       "  sub_icb_location_code sub_icb_location_ons_code  \\\n",
       "0                   00L                 E38000130   \n",
       "1                   00L                 E38000130   \n",
       "2                   00L                 E38000130   \n",
       "3                   00L                 E38000130   \n",
       "4                   00L                 E38000130   \n",
       "\n",
       "                        sub_icb_location_name icb_ons_code region_ons_code  \\\n",
       "0  NHS North East and North Cumbria ICB - 00L    E54000050       E40000012   \n",
       "1  NHS North East and North Cumbria ICB - 00L    E54000050       E40000012   \n",
       "2  NHS North East and North Cumbria ICB - 00L    E54000050       E40000012   \n",
       "3  NHS North East and North Cumbria ICB - 00L    E54000050       E40000012   \n",
       "4  NHS North East and North Cumbria ICB - 00L    E54000050       E40000012   \n",
       "\n",
       "  appointment_date         actual_duration  count_of_appointments  \n",
       "0        01-Dec-21           31-60 Minutes                    364  \n",
       "1        01-Dec-21           21-30 Minutes                    619  \n",
       "2        01-Dec-21            6-10 Minutes                   1698  \n",
       "3        01-Dec-21  Unknown / Data Quality                   1277  \n",
       "4        01-Dec-21           16-20 Minutes                    730  "
      ]
     },
     "execution_count": 3,
     "metadata": {},
     "output_type": "execute_result"
    }
   ],
   "source": [
    "# Import and sense-check the actual_duration.csv data set as ad.\n",
    "ad = pd.read_csv('actual_duration.csv')\n",
    "\n",
    "# View the DataFrame.\n",
    "print(ad.shape)\n",
    "ad.head()"
   ]
  },
  {
   "cell_type": "code",
   "execution_count": 4,
   "id": "f694cd9d",
   "metadata": {},
   "outputs": [
    {
     "data": {
      "text/plain": [
       "np.False_"
      ]
     },
     "execution_count": 4,
     "metadata": {},
     "output_type": "execute_result"
    }
   ],
   "source": [
    "# Determine whether there are missing values.\n",
    "ad.isna().any().any()"
   ]
  },
  {
   "cell_type": "code",
   "execution_count": 5,
   "id": "c8fd49b5",
   "metadata": {},
   "outputs": [
    {
     "name": "stdout",
     "output_type": "stream",
     "text": [
      "<bound method DataFrame.info of        sub_icb_location_code sub_icb_location_ons_code  \\\n",
      "0                        00L                 E38000130   \n",
      "1                        00L                 E38000130   \n",
      "2                        00L                 E38000130   \n",
      "3                        00L                 E38000130   \n",
      "4                        00L                 E38000130   \n",
      "...                      ...                       ...   \n",
      "137788                 X2C4Y                 E38000254   \n",
      "137789                 X2C4Y                 E38000254   \n",
      "137790                 X2C4Y                 E38000254   \n",
      "137791                 X2C4Y                 E38000254   \n",
      "137792                 X2C4Y                 E38000254   \n",
      "\n",
      "                             sub_icb_location_name icb_ons_code  \\\n",
      "0       NHS North East and North Cumbria ICB - 00L    E54000050   \n",
      "1       NHS North East and North Cumbria ICB - 00L    E54000050   \n",
      "2       NHS North East and North Cumbria ICB - 00L    E54000050   \n",
      "3       NHS North East and North Cumbria ICB - 00L    E54000050   \n",
      "4       NHS North East and North Cumbria ICB - 00L    E54000050   \n",
      "...                                            ...          ...   \n",
      "137788              NHS West Yorkshire ICB - X2C4Y    E54000054   \n",
      "137789              NHS West Yorkshire ICB - X2C4Y    E54000054   \n",
      "137790              NHS West Yorkshire ICB - X2C4Y    E54000054   \n",
      "137791              NHS West Yorkshire ICB - X2C4Y    E54000054   \n",
      "137792              NHS West Yorkshire ICB - X2C4Y    E54000054   \n",
      "\n",
      "       region_ons_code appointment_date         actual_duration  \\\n",
      "0            E40000012        01-Dec-21           31-60 Minutes   \n",
      "1            E40000012        01-Dec-21           21-30 Minutes   \n",
      "2            E40000012        01-Dec-21            6-10 Minutes   \n",
      "3            E40000012        01-Dec-21  Unknown / Data Quality   \n",
      "4            E40000012        01-Dec-21           16-20 Minutes   \n",
      "...                ...              ...                     ...   \n",
      "137788       E40000012        30-Jun-22           31-60 Minutes   \n",
      "137789       E40000012        30-Jun-22           21-30 Minutes   \n",
      "137790       E40000012        30-Jun-22           16-20 Minutes   \n",
      "137791       E40000012        30-Jun-22           11-15 Minutes   \n",
      "137792       E40000012        30-Jun-22             1-5 Minutes   \n",
      "\n",
      "        count_of_appointments  \n",
      "0                         364  \n",
      "1                         619  \n",
      "2                        1698  \n",
      "3                        1277  \n",
      "4                         730  \n",
      "...                       ...  \n",
      "137788                    430  \n",
      "137789                    751  \n",
      "137790                    921  \n",
      "137791                   1439  \n",
      "137792                   1739  \n",
      "\n",
      "[137793 rows x 8 columns]>\n",
      "sub_icb_location_code        object\n",
      "sub_icb_location_ons_code    object\n",
      "sub_icb_location_name        object\n",
      "icb_ons_code                 object\n",
      "region_ons_code              object\n",
      "appointment_date             object\n",
      "actual_duration              object\n",
      "count_of_appointments         int64\n",
      "dtype: object\n"
     ]
    }
   ],
   "source": [
    "# Determine the metadata of the data set.\n",
    "print(ad.info)\n",
    "print(ad.dtypes)"
   ]
  },
  {
   "cell_type": "code",
   "execution_count": 6,
   "id": "9fa13562",
   "metadata": {},
   "outputs": [
    {
     "data": {
      "text/html": [
       "<div>\n",
       "<style scoped>\n",
       "    .dataframe tbody tr th:only-of-type {\n",
       "        vertical-align: middle;\n",
       "    }\n",
       "\n",
       "    .dataframe tbody tr th {\n",
       "        vertical-align: top;\n",
       "    }\n",
       "\n",
       "    .dataframe thead th {\n",
       "        text-align: right;\n",
       "    }\n",
       "</style>\n",
       "<table border=\"1\" class=\"dataframe\">\n",
       "  <thead>\n",
       "    <tr style=\"text-align: right;\">\n",
       "      <th></th>\n",
       "      <th>count_of_appointments</th>\n",
       "    </tr>\n",
       "  </thead>\n",
       "  <tbody>\n",
       "    <tr>\n",
       "      <th>count</th>\n",
       "      <td>137793.000000</td>\n",
       "    </tr>\n",
       "    <tr>\n",
       "      <th>mean</th>\n",
       "      <td>1219.080011</td>\n",
       "    </tr>\n",
       "    <tr>\n",
       "      <th>std</th>\n",
       "      <td>1546.902956</td>\n",
       "    </tr>\n",
       "    <tr>\n",
       "      <th>min</th>\n",
       "      <td>1.000000</td>\n",
       "    </tr>\n",
       "    <tr>\n",
       "      <th>25%</th>\n",
       "      <td>194.000000</td>\n",
       "    </tr>\n",
       "    <tr>\n",
       "      <th>50%</th>\n",
       "      <td>696.000000</td>\n",
       "    </tr>\n",
       "    <tr>\n",
       "      <th>75%</th>\n",
       "      <td>1621.000000</td>\n",
       "    </tr>\n",
       "    <tr>\n",
       "      <th>max</th>\n",
       "      <td>15400.000000</td>\n",
       "    </tr>\n",
       "  </tbody>\n",
       "</table>\n",
       "</div>"
      ],
      "text/plain": [
       "       count_of_appointments\n",
       "count          137793.000000\n",
       "mean             1219.080011\n",
       "std              1546.902956\n",
       "min                 1.000000\n",
       "25%               194.000000\n",
       "50%               696.000000\n",
       "75%              1621.000000\n",
       "max             15400.000000"
      ]
     },
     "execution_count": 6,
     "metadata": {},
     "output_type": "execute_result"
    }
   ],
   "source": [
    "# Determine the descriptive statistics of the data set.\n",
    "ad.describe()"
   ]
  },
  {
   "cell_type": "code",
   "execution_count": 7,
   "id": "f2dfbc7b",
   "metadata": {},
   "outputs": [
    {
     "name": "stdout",
     "output_type": "stream",
     "text": [
      "(596821, 7)\n"
     ]
    },
    {
     "data": {
      "text/html": [
       "<div>\n",
       "<style scoped>\n",
       "    .dataframe tbody tr th:only-of-type {\n",
       "        vertical-align: middle;\n",
       "    }\n",
       "\n",
       "    .dataframe tbody tr th {\n",
       "        vertical-align: top;\n",
       "    }\n",
       "\n",
       "    .dataframe thead th {\n",
       "        text-align: right;\n",
       "    }\n",
       "</style>\n",
       "<table border=\"1\" class=\"dataframe\">\n",
       "  <thead>\n",
       "    <tr style=\"text-align: right;\">\n",
       "      <th></th>\n",
       "      <th>icb_ons_code</th>\n",
       "      <th>appointment_month</th>\n",
       "      <th>appointment_status</th>\n",
       "      <th>hcp_type</th>\n",
       "      <th>appointment_mode</th>\n",
       "      <th>time_between_book_and_appointment</th>\n",
       "      <th>count_of_appointments</th>\n",
       "    </tr>\n",
       "  </thead>\n",
       "  <tbody>\n",
       "    <tr>\n",
       "      <th>0</th>\n",
       "      <td>E54000034</td>\n",
       "      <td>2020-01</td>\n",
       "      <td>Attended</td>\n",
       "      <td>GP</td>\n",
       "      <td>Face-to-Face</td>\n",
       "      <td>1 Day</td>\n",
       "      <td>8107</td>\n",
       "    </tr>\n",
       "    <tr>\n",
       "      <th>1</th>\n",
       "      <td>E54000034</td>\n",
       "      <td>2020-01</td>\n",
       "      <td>Attended</td>\n",
       "      <td>GP</td>\n",
       "      <td>Face-to-Face</td>\n",
       "      <td>15  to 21 Days</td>\n",
       "      <td>6791</td>\n",
       "    </tr>\n",
       "    <tr>\n",
       "      <th>2</th>\n",
       "      <td>E54000034</td>\n",
       "      <td>2020-01</td>\n",
       "      <td>Attended</td>\n",
       "      <td>GP</td>\n",
       "      <td>Face-to-Face</td>\n",
       "      <td>2 to 7 Days</td>\n",
       "      <td>20686</td>\n",
       "    </tr>\n",
       "    <tr>\n",
       "      <th>3</th>\n",
       "      <td>E54000034</td>\n",
       "      <td>2020-01</td>\n",
       "      <td>Attended</td>\n",
       "      <td>GP</td>\n",
       "      <td>Face-to-Face</td>\n",
       "      <td>22  to 28 Days</td>\n",
       "      <td>4268</td>\n",
       "    </tr>\n",
       "    <tr>\n",
       "      <th>4</th>\n",
       "      <td>E54000034</td>\n",
       "      <td>2020-01</td>\n",
       "      <td>Attended</td>\n",
       "      <td>GP</td>\n",
       "      <td>Face-to-Face</td>\n",
       "      <td>8  to 14 Days</td>\n",
       "      <td>11971</td>\n",
       "    </tr>\n",
       "  </tbody>\n",
       "</table>\n",
       "</div>"
      ],
      "text/plain": [
       "  icb_ons_code appointment_month appointment_status hcp_type appointment_mode  \\\n",
       "0    E54000034           2020-01           Attended       GP     Face-to-Face   \n",
       "1    E54000034           2020-01           Attended       GP     Face-to-Face   \n",
       "2    E54000034           2020-01           Attended       GP     Face-to-Face   \n",
       "3    E54000034           2020-01           Attended       GP     Face-to-Face   \n",
       "4    E54000034           2020-01           Attended       GP     Face-to-Face   \n",
       "\n",
       "  time_between_book_and_appointment  count_of_appointments  \n",
       "0                             1 Day                   8107  \n",
       "1                    15  to 21 Days                   6791  \n",
       "2                       2 to 7 Days                  20686  \n",
       "3                    22  to 28 Days                   4268  \n",
       "4                     8  to 14 Days                  11971  "
      ]
     },
     "execution_count": 7,
     "metadata": {},
     "output_type": "execute_result"
    }
   ],
   "source": [
    "# Import and sense-check the appointments_regional.csv data set as ar.\n",
    "ar = pd.read_csv('appointments_regional.csv')\n",
    "\n",
    "# View the DataFrame.\n",
    "print(ar.shape)\n",
    "ar.head()"
   ]
  },
  {
   "cell_type": "code",
   "execution_count": 8,
   "id": "255823c3",
   "metadata": {},
   "outputs": [
    {
     "data": {
      "text/plain": [
       "np.False_"
      ]
     },
     "execution_count": 8,
     "metadata": {},
     "output_type": "execute_result"
    }
   ],
   "source": [
    "# Determine whether there are missing values.\n",
    "ar.isna().any().any()"
   ]
  },
  {
   "cell_type": "code",
   "execution_count": 9,
   "id": "1daa3556",
   "metadata": {},
   "outputs": [
    {
     "name": "stdout",
     "output_type": "stream",
     "text": [
      "<bound method DataFrame.info of        icb_ons_code appointment_month appointment_status hcp_type  \\\n",
      "0         E54000034           2020-01           Attended       GP   \n",
      "1         E54000034           2020-01           Attended       GP   \n",
      "2         E54000034           2020-01           Attended       GP   \n",
      "3         E54000034           2020-01           Attended       GP   \n",
      "4         E54000034           2020-01           Attended       GP   \n",
      "...             ...               ...                ...      ...   \n",
      "596816    E54000050           2022-06            Unknown  Unknown   \n",
      "596817    E54000050           2022-06            Unknown  Unknown   \n",
      "596818    E54000050           2022-06            Unknown  Unknown   \n",
      "596819    E54000050           2022-06            Unknown  Unknown   \n",
      "596820    E54000050           2022-06            Unknown  Unknown   \n",
      "\n",
      "       appointment_mode time_between_book_and_appointment  \\\n",
      "0          Face-to-Face                             1 Day   \n",
      "1          Face-to-Face                    15  to 21 Days   \n",
      "2          Face-to-Face                       2 to 7 Days   \n",
      "3          Face-to-Face                    22  to 28 Days   \n",
      "4          Face-to-Face                     8  to 14 Days   \n",
      "...                 ...                               ...   \n",
      "596816          Unknown                       2 to 7 Days   \n",
      "596817          Unknown                    22  to 28 Days   \n",
      "596818          Unknown                     8  to 14 Days   \n",
      "596819          Unknown                 More than 28 Days   \n",
      "596820          Unknown                          Same Day   \n",
      "\n",
      "        count_of_appointments  \n",
      "0                        8107  \n",
      "1                        6791  \n",
      "2                       20686  \n",
      "3                        4268  \n",
      "4                       11971  \n",
      "...                       ...  \n",
      "596816                     21  \n",
      "596817                      8  \n",
      "596818                     28  \n",
      "596819                     17  \n",
      "596820                     10  \n",
      "\n",
      "[596821 rows x 7 columns]>\n",
      "icb_ons_code                         object\n",
      "appointment_month                    object\n",
      "appointment_status                   object\n",
      "hcp_type                             object\n",
      "appointment_mode                     object\n",
      "time_between_book_and_appointment    object\n",
      "count_of_appointments                 int64\n",
      "dtype: object\n"
     ]
    }
   ],
   "source": [
    "# Determine the metadata of the data set.\n",
    "print(ar.info)\n",
    "print(ar.dtypes)"
   ]
  },
  {
   "cell_type": "code",
   "execution_count": 10,
   "id": "3cbc4d97",
   "metadata": {},
   "outputs": [
    {
     "data": {
      "text/html": [
       "<div>\n",
       "<style scoped>\n",
       "    .dataframe tbody tr th:only-of-type {\n",
       "        vertical-align: middle;\n",
       "    }\n",
       "\n",
       "    .dataframe tbody tr th {\n",
       "        vertical-align: top;\n",
       "    }\n",
       "\n",
       "    .dataframe thead th {\n",
       "        text-align: right;\n",
       "    }\n",
       "</style>\n",
       "<table border=\"1\" class=\"dataframe\">\n",
       "  <thead>\n",
       "    <tr style=\"text-align: right;\">\n",
       "      <th></th>\n",
       "      <th>count_of_appointments</th>\n",
       "    </tr>\n",
       "  </thead>\n",
       "  <tbody>\n",
       "    <tr>\n",
       "      <th>count</th>\n",
       "      <td>596821.000000</td>\n",
       "    </tr>\n",
       "    <tr>\n",
       "      <th>mean</th>\n",
       "      <td>1244.601857</td>\n",
       "    </tr>\n",
       "    <tr>\n",
       "      <th>std</th>\n",
       "      <td>5856.887042</td>\n",
       "    </tr>\n",
       "    <tr>\n",
       "      <th>min</th>\n",
       "      <td>1.000000</td>\n",
       "    </tr>\n",
       "    <tr>\n",
       "      <th>25%</th>\n",
       "      <td>7.000000</td>\n",
       "    </tr>\n",
       "    <tr>\n",
       "      <th>50%</th>\n",
       "      <td>47.000000</td>\n",
       "    </tr>\n",
       "    <tr>\n",
       "      <th>75%</th>\n",
       "      <td>308.000000</td>\n",
       "    </tr>\n",
       "    <tr>\n",
       "      <th>max</th>\n",
       "      <td>211265.000000</td>\n",
       "    </tr>\n",
       "  </tbody>\n",
       "</table>\n",
       "</div>"
      ],
      "text/plain": [
       "       count_of_appointments\n",
       "count          596821.000000\n",
       "mean             1244.601857\n",
       "std              5856.887042\n",
       "min                 1.000000\n",
       "25%                 7.000000\n",
       "50%                47.000000\n",
       "75%               308.000000\n",
       "max            211265.000000"
      ]
     },
     "execution_count": 10,
     "metadata": {},
     "output_type": "execute_result"
    }
   ],
   "source": [
    "# Determine the descriptive statistics of the data set.\n",
    "ar.describe()"
   ]
  },
  {
   "cell_type": "code",
   "execution_count": null,
   "id": "4e30305d",
   "metadata": {},
   "outputs": [],
   "source": [
    "# Import and sense-check the national_categories.xlsx data set as nc.\n",
    "nc = pd.read_excel('national_categories.xlsx')\n",
    "\n",
    "# View the DataFrame.\n",
    "print(nc.shape)\n",
    "nc.head()"
   ]
  },
  {
   "cell_type": "code",
   "execution_count": null,
   "id": "f5dfc24e",
   "metadata": {},
   "outputs": [],
   "source": [
    "# Determine whether there are missing values.\n",
    "nc.isna().any().any()"
   ]
  },
  {
   "cell_type": "code",
   "execution_count": null,
   "id": "e7dbbef3",
   "metadata": {},
   "outputs": [],
   "source": [
    "# Determine the metadata of the data set.\n",
    "print(nc.info)\n",
    "print(nc.dtypes)"
   ]
  },
  {
   "cell_type": "code",
   "execution_count": null,
   "id": "b87dfc23",
   "metadata": {},
   "outputs": [],
   "source": [
    "# Determine the descriptive statistics of the data set.\n",
    "nc.describe()"
   ]
  },
  {
   "cell_type": "markdown",
   "id": "f86ea066",
   "metadata": {},
   "source": [
    "### Explore the data set"
   ]
  },
  {
   "cell_type": "markdown",
   "id": "333a607a",
   "metadata": {},
   "source": [
    " > **Question 1:** How many locations are there in the data set?"
   ]
  },
  {
   "cell_type": "code",
   "execution_count": null,
   "id": "749cdb45",
   "metadata": {},
   "outputs": [],
   "source": [
    "# Determine the number of locations.\n",
    "cnt_loc_nc = nc['sub_icb_location_name'].nunique()\n",
    "print(cnt_loc_nc)"
   ]
  },
  {
   "cell_type": "code",
   "execution_count": null,
   "id": "6fd15096-1225-4f2f-8a82-f4d142f411f6",
   "metadata": {},
   "outputs": [],
   "source": [
    "# Checking the number of locations with different dataset\n",
    "cnt_loc_ad = ad['sub_icb_location_name'].nunique()\n",
    "print(cnt_loc_ad)"
   ]
  },
  {
   "cell_type": "markdown",
   "id": "93f0ce86",
   "metadata": {},
   "source": [
    " > **Question 2:** What are the five locations with the highest number of appointments?\n",
    "\n"
   ]
  },
  {
   "cell_type": "code",
   "execution_count": null,
   "id": "9e7c3913",
   "metadata": {},
   "outputs": [],
   "source": [
    "# Determine the top five locations based on record count.\n",
    "# Group by location and sum the appointments\n",
    "top_5_loc = nc.groupby('sub_icb_location_name')['count_of_appointments'].count()\n",
    "\n",
    "# Sort descending and take top 5\n",
    "top_5_loc = top_5_loc.sort_values(ascending=False).head(5)\n",
    "\n",
    "top_5_loc"
   ]
  },
  {
   "cell_type": "markdown",
   "id": "d75405a5",
   "metadata": {},
   "source": [
    " > **Question 3:** How many service settings, context types, national categories, and appointment statuses are there?"
   ]
  },
  {
   "cell_type": "code",
   "execution_count": null,
   "id": "3cc2f7aa",
   "metadata": {},
   "outputs": [],
   "source": [
    "# Determine the number of service settings.\n",
    "cnt_serv_sett = nc['service_setting'].nunique()\n",
    "print(cnt_serv_sett)"
   ]
  },
  {
   "cell_type": "code",
   "execution_count": null,
   "id": "f6790e40",
   "metadata": {},
   "outputs": [],
   "source": [
    "# Determine the number of context types.\n",
    "cnt_cont_type = nc['context_type'].nunique()\n",
    "print(cnt_cont_type)"
   ]
  },
  {
   "cell_type": "code",
   "execution_count": null,
   "id": "ba95bff3",
   "metadata": {},
   "outputs": [],
   "source": [
    "# Determine the number of national categories.\n",
    "cnt_nat_cat = nc['national_category'].nunique()\n",
    "print(cnt_nat_cat)\n",
    "\n",
    "# Determine the names of national categories.\n",
    "names_nat_cat = nc['national_category'].unique()\n",
    "print(names_nat_cat)"
   ]
  },
  {
   "cell_type": "code",
   "execution_count": null,
   "id": "a5633147",
   "metadata": {},
   "outputs": [],
   "source": [
    "# Determine the number of appointment statuses.\n",
    "cnt_appt_stat = ar['appointment_status'].nunique()\n",
    "print(cnt_appt_stat)"
   ]
  },
  {
   "cell_type": "markdown",
   "id": "5e404fe0-d5b3-4aa3-9ab8-92402dae4f08",
   "metadata": {},
   "source": [
    "# "
   ]
  },
  {
   "cell_type": "markdown",
   "id": "edf661d9",
   "metadata": {},
   "source": [
    "# Assignment activity 3"
   ]
  },
  {
   "cell_type": "markdown",
   "id": "be5393dd",
   "metadata": {},
   "source": [
    "### Continue to explore the data and search for answers to more specific questions posed by the NHS."
   ]
  },
  {
   "cell_type": "markdown",
   "id": "a742e563",
   "metadata": {},
   "source": [
    " > **Question 1:** Between what dates were appointments scheduled? "
   ]
  },
  {
   "cell_type": "code",
   "execution_count": null,
   "id": "6d3e53a7",
   "metadata": {},
   "outputs": [],
   "source": [
    "# View the first five rows of appointment_date for the ad DataFrame to determine the date format.\n",
    "ad['appointment_date'].head()"
   ]
  },
  {
   "cell_type": "code",
   "execution_count": null,
   "id": "d32fb602",
   "metadata": {},
   "outputs": [],
   "source": [
    "# View the first five rows of appointment_date for the nc DataFrame to determine the date format.\n",
    "nc['appointment_date'].head()"
   ]
  },
  {
   "cell_type": "code",
   "execution_count": null,
   "id": "05a60b63",
   "metadata": {},
   "outputs": [],
   "source": [
    "# Change the date format of ad['appointment_date'].\n",
    "# Convert the column to datetime\n",
    "ad['appointment_date'] = pd.to_datetime(nc['appointment_date'], format='%d %b %y')\n",
    "\n",
    "# View the DateFrame.\n",
    "ad.head()"
   ]
  },
  {
   "cell_type": "code",
   "execution_count": null,
   "id": "5a8522f5-bc9f-448a-bdbf-c03b4d08bdfb",
   "metadata": {},
   "outputs": [],
   "source": [
    "# View the first five rows of appointment_month for the ar DataFrame to determine the date format.\n",
    "ar['appointment_month'].head()"
   ]
  },
  {
   "cell_type": "code",
   "execution_count": null,
   "id": "b73db1bf",
   "metadata": {},
   "outputs": [],
   "source": [
    "# Convert string to datetime (defaults day=1)\n",
    "ar['appointment_month'] = pd.to_datetime(ar['appointment_month'], format='%Y-%m')\n",
    "\n",
    "# Convert to Period (monthly frequency)\n",
    "ar['appointment_month'] = pd.to_datetime(ar['appointment_month']).dt.to_period('M')\n",
    "\n",
    "# Check the result\n",
    "ar.head()"
   ]
  },
  {
   "cell_type": "code",
   "execution_count": null,
   "id": "4036644e-ae61-491e-8c81-99751be0830a",
   "metadata": {},
   "outputs": [],
   "source": [
    "ar.dtypes"
   ]
  },
  {
   "cell_type": "code",
   "execution_count": null,
   "id": "28e6b2fa",
   "metadata": {},
   "outputs": [],
   "source": [
    "# Determine the minimum and maximum dates in the ad DataFrame.\n",
    "print(ad['appointment_date'].max())\n",
    "print(ad['appointment_date'].min())\n",
    "\n",
    "# Use appropriate docstrings.\n",
    "print(f\"The minimum date in the ad DataFrame is {ad['appointment_date'].min()}\")\n",
    "print(f\"The maximum date in the ad DataFrame is {ad['appointment_date'].max()}\")"
   ]
  },
  {
   "cell_type": "code",
   "execution_count": null,
   "id": "87072228",
   "metadata": {},
   "outputs": [],
   "source": [
    "# Determine the minimum and maximum dates in the ad DataFrame.\n",
    "print(nc['appointment_date'].max())\n",
    "print(nc['appointment_date'].min())\n",
    "\n",
    "# Use appropriate docstrings.\n",
    "print(f\"The minimum date in the ad DataFrame is {nc['appointment_date'].min()}\")\n",
    "print(f\"The maximum date in the ad DataFrame is {nc['appointment_date'].max()}\")"
   ]
  },
  {
   "cell_type": "markdown",
   "id": "e382c450-6ff3-41e6-98dd-39645e45bd31",
   "metadata": {},
   "source": [
    "<span style=\"color:brown\"><b>Note: nc and ad have data across the same timeframe </b></span>"
   ]
  },
  {
   "cell_type": "code",
   "execution_count": null,
   "id": "984804be-3563-44a0-9519-52780d3b4536",
   "metadata": {},
   "outputs": [],
   "source": [
    "# Determine the minimum and maximum dates in the ad DataFrame.\n",
    "print(ar['appointment_month'].max())\n",
    "print(ar['appointment_month'].min())\n",
    "\n",
    "# Use appropriate docstrings.\n",
    "print(f\"The minimum date in the ad DataFrame is {ar['appointment_month'].min()}\")\n",
    "print(f\"The maximum date in the ad DataFrame is {ar['appointment_month'].max()}\")"
   ]
  },
  {
   "cell_type": "markdown",
   "id": "db943146-15c8-403f-8285-d34ef30e02a5",
   "metadata": {},
   "source": [
    "<span style=\"color:brown\"><b>Note: ar is across a longer timeframe </b></span>"
   ]
  },
  {
   "cell_type": "markdown",
   "id": "e3b97baf-5e69-4445-a30b-6f1a2059c303",
   "metadata": {},
   "source": [
    "<span style=\"color:brown\"><b> Note: Dates above show that data in nc and ad dates sit within ar dates </b></span>"
   ]
  },
  {
   "cell_type": "markdown",
   "id": "501691e4-de1c-46d3-8b6a-fae15dab3474",
   "metadata": {},
   "source": [
    "<span style=\"color:brown\"><b>Note: Comparing dataset timeframes to calculate the number of months in each dataset.</b></span>"
   ]
  },
  {
   "cell_type": "code",
   "execution_count": null,
   "id": "37e6f32b-d54e-4296-ac49-56c7bb88bc69",
   "metadata": {},
   "outputs": [],
   "source": [
    "# Calculate how many months of data in ar, ad and nc\n",
    "ar_count_months_year = (ar['appointment_month'].max() -  ar['appointment_month'].min())\n",
    "print(ar_count_months_year)\n",
    "\n",
    "# Convert appointment value to month\n",
    "adnc_count_months_year = (nc['appointment_date'].max().to_period('M') -\n",
    "                          nc['appointment_date'].min().to_period('M')).n\n",
    "print(adnc_count_months_year)"
   ]
  },
  {
   "cell_type": "markdown",
   "id": "ac33d3d1-480f-47d5-9ce2-0ad36e569899",
   "metadata": {},
   "source": [
    "<span style=\"color:purple\"><b>Insight: Dates from August 2021 to June 2022 include all 3 datasets however information on ar (and specifically time between appointments starts from Jan of 2020)  </b></span>"
   ]
  },
  {
   "cell_type": "markdown",
   "id": "f41ad664",
   "metadata": {},
   "source": [
    " > **Question 2:** Which service setting was the most popular for NHS North West London from 1 January to 1 June 2022?"
   ]
  },
  {
   "cell_type": "code",
   "execution_count": null,
   "id": "815a0048-6073-41f9-b4b9-b5df5a39064f",
   "metadata": {},
   "outputs": [],
   "source": [
    "# Calculate number of records available in nc DataFrame\n",
    "nc_service_setting = nc['service_setting'].value_counts()\n",
    "nc_service_setting"
   ]
  },
  {
   "cell_type": "code",
   "execution_count": null,
   "id": "b577ca5f",
   "metadata": {},
   "outputs": [],
   "source": [
    "# For each of these service settings, determine the number of records available for the period and the location. \n",
    "# Filter the data for the date range and location\n",
    "filter_nc_NWL_Jan_to_June = nc[\n",
    "    (nc['appointment_date'] >= '2021-01-01') &\n",
    "    (nc['appointment_date'] <= '2022-06-01') &\n",
    "    (nc['sub_icb_location_name'].str.contains('NHS North West London'))]\n",
    "\n",
    "# Count the number of records for each service_setting\n",
    "cnt_rec_NWL_Jan_to_June = filter_nc_NWL_Jan_to_June['service_setting'].value_counts()\n",
    "\n",
    "# View the output.\n",
    "cnt_rec_NWL_Jan_to_June"
   ]
  },
  {
   "cell_type": "markdown",
   "id": "14081cde-8a64-4ad9-a9c4-cd7a9b5f5357",
   "metadata": {},
   "source": [
    "<span style=\"color:purple\"><b>Insight: General Practice is the most popular in general and in this hospital during this time frame </b></span>"
   ]
  },
  {
   "cell_type": "markdown",
   "id": "7ac94132",
   "metadata": {},
   "source": [
    " > **Question 3a:** List the months ranked by the total number of appointments."
   ]
  },
  {
   "cell_type": "code",
   "execution_count": null,
   "id": "a233590a-8b8b-4484-80fb-6d7583a7005f",
   "metadata": {},
   "outputs": [],
   "source": [
    "# Number of appointments per month == sum of count_of_appointments by month.\n",
    "# Use the groupby() and sort_values() functions.\n",
    "total_appt_month_nc = (nc.groupby('appointment_month')['count_of_appointments']\n",
    "                       .sum()\n",
    "                       .sort_values(ascending=False)) # descending to see the highest first)\n",
    "\n",
    "# View the output\n",
    "print(total_appt_month_nc)"
   ]
  },
  {
   "cell_type": "code",
   "execution_count": null,
   "id": "8fd0212f-6d81-40cb-a9e9-0b73f3b4ace8",
   "metadata": {},
   "outputs": [],
   "source": [
    "total_appt_month_ad = ( ad.groupby(ad['appointment_date'].dt.to_period('M'))['count_of_appointments']\n",
    "                       .sum()\n",
    "                       .sort_values(ascending=False))\n",
    "\n",
    "# View the output\n",
    "print(total_appt_month_ad)"
   ]
  },
  {
   "cell_type": "code",
   "execution_count": null,
   "id": "eb72a82d-4fd6-4e8f-9978-08011e4b0a3a",
   "metadata": {},
   "outputs": [],
   "source": [
    "total_appt_month_ar = (ar.groupby('appointment_month')['count_of_appointments']\n",
    "                       .sum()\n",
    "                       .sort_values(ascending=False))\n",
    "\n",
    "# View the output\n",
    "print(total_appt_month_ar)"
   ]
  },
  {
   "cell_type": "markdown",
   "id": "77c4b60a-bbf9-4027-8ede-6a918f71d7e8",
   "metadata": {},
   "source": [
    "<span style=\"color:brown\"><b>Note: nc and ar have same number of appointments per date with ad showing fewer - this is something to look into later</b></span>"
   ]
  },
  {
   "cell_type": "markdown",
   "id": "b0c9cf32-7b3e-4236-8ad2-46b714142ce8",
   "metadata": {},
   "source": [
    "<span style=\"color:purple\"><b>Insight: Demand and appointment volumes tend to peak during the winter months, while the summer period offers greater flexibility and a more relaxed pace.</b></span>"
   ]
  },
  {
   "cell_type": "markdown",
   "id": "17431601-36e5-45ae-8cf0-c55190dee5ea",
   "metadata": {},
   "source": [
    " > **Question 3b:** Which month had the highest and lowest number of appointments?"
   ]
  },
  {
   "cell_type": "code",
   "execution_count": null,
   "id": "6084c6d1",
   "metadata": {},
   "outputs": [],
   "source": [
    "# Group by month and sum appointments\n",
    "month_totals = (nc.groupby('appointment_month')['count_of_appointments']\n",
    "                .sum())\n",
    "\n",
    "# Find highest and lowest\n",
    "highest_month = month_totals.idxmax()\n",
    "highest_value = month_totals.max()\n",
    "\n",
    "lowest_month = month_totals.idxmin()\n",
    "lowest_value = month_totals.min()\n",
    "\n",
    "# Display both month and value\n",
    "print(f\"Highest month: {highest_month} with {highest_value} appointments\")\n",
    "print(f\"Lowest month:  {lowest_month} with {lowest_value} appointments\")"
   ]
  },
  {
   "cell_type": "markdown",
   "id": "b28a49a5",
   "metadata": {},
   "source": [
    " > **Question 4:** What was the total number of records per month?"
   ]
  },
  {
   "cell_type": "markdown",
   "id": "5602ebb6-be1f-4137-9f3a-e8b64a2eb7cf",
   "metadata": {},
   "source": [
    "<span style=\"color:brown\"><b>Note: Taken records as observations (rows of data) </b></span>"
   ]
  },
  {
   "cell_type": "code",
   "execution_count": null,
   "id": "01445280-bd3f-418f-9b5d-ab83655be1b6",
   "metadata": {},
   "outputs": [],
   "source": [
    "# Total number of records per month for ar DataFrame\n",
    "ar_total_rec_month = (ar.groupby('appointment_month')\n",
    "                      .size()\n",
    "                      .sort_values(ascending=False))\n",
    "\n",
    "print(f\"In ar DataFrame, the total number of records per month is: {ar_total_rec_month}\")\n",
    "\n",
    "# Total number of records per month for ad DataFrame\n",
    "ad_total_rec_month = (ad.groupby(ad['appointment_date'].dt.to_period('M'))\n",
    "                      .size()\n",
    "                      .sort_values(ascending=False))\n",
    "\n",
    "print(f\"In ad DataFrame, the total number of records per month is:{ad_total_rec_month}\")\n",
    "\n",
    "# Total number of records per month for nc DataFrame\n",
    "nc_total_rec_month = (nc.groupby(nc['appointment_date'].dt.to_period('M'))\n",
    "                      .size()\n",
    "                      .sort_values(ascending=False))\n",
    "\n",
    "print(f\"In nc DataFrame, the total number of records per month is: {nc_total_rec_month}\")"
   ]
  },
  {
   "cell_type": "markdown",
   "id": "0e115cfd-81cc-432d-a541-f4a31ac127fc",
   "metadata": {},
   "source": [
    "<span style=\"color:brown\"><b>Note: To maybe use (prepare) transforming above output into a table</b></span>"
   ]
  },
  {
   "cell_type": "code",
   "execution_count": null,
   "id": "a147e2c0-35f5-44f9-bced-56aca71919fd",
   "metadata": {},
   "outputs": [],
   "source": [
    "# Put this information into its own table \n",
    "# Create 2 seperate DataFrames with outputted date \n",
    "ar_rec_month = pd.DataFrame(list({\n",
    "    '2020-03': 21350, '2020-01': 20889, '2021-11': 20766, '2020-02': 20689,\n",
    "    '2021-10': 20562, '2022-03': 20532, '2021-09': 20441, '2021-12': 20393,\n",
    "    '2022-05': 20276, '2022-06': 20231, '2022-01': 20225, '2022-02': 20133,\n",
    "    '2020-10': 20122, '2022-04': 20073, '2020-09': 20043, '2021-07': 19899,\n",
    "    '2021-06': 19814, '2021-08': 19786, '2020-11': 19675, '2020-07': 19502,\n",
    "    '2021-04': 19452, '2020-12': 19394, '2021-05': 19384, '2021-03': 19369,\n",
    "    '2021-01': 19319, '2020-08': 19247, '2020-04': 19124, '2021-02': 18949,\n",
    "    '2020-06': 18844, '2020-05': 18338}.items()), columns=['month', 'value'])\n",
    "\n",
    "ad_rec_month = pd.DataFrame(list({\n",
    "    '2022-03': 13676, '2021-11': 13461, '2021-09': 13014, '2022-05': 12918,\n",
    "    '2021-10': 12816, '2021-12': 12412, '2022-06': 12350, '2021-08': 12021,\n",
    "    '2022-01': 11900, '2022-02': 11784, '2022-04': 11441}.items()), columns=['month', 'value'])\n",
    "\n",
    "nc_rec_month = pd.DataFrame(list({\n",
    "    '2022-03': 82822, '2021-11': 77652, '2022-05': 77425, '2021-09': 74922,\n",
    "    '2022-06': 74168, '2021-10': 74078, '2021-12': 72651, '2022-01': 71896,\n",
    "    '2022-02': 71769, '2022-04': 70012, '2021-08': 69999}.items()), columns=['month', 'value'])\n",
    "\n",
    "# View one of the DataFrames\n",
    "ar_rec_month.head()"
   ]
  },
  {
   "cell_type": "code",
   "execution_count": null,
   "id": "914042d1-fd77-4bb3-8ece-daa94f19ad70",
   "metadata": {},
   "outputs": [],
   "source": [
    "# Merge all three DataFrames on 'month'\n",
    "rec_month_merged = (ar_rec_month\n",
    "                    .merge(ad_rec_month, on='month', how='outer', suffixes=('_ar', '_ad'))\n",
    "                    .merge(nc_rec_month, on='month', how='outer'))\n",
    "\n",
    "# Rename the last column (from nc_rec_month)\n",
    "rec_month_merged.rename(columns={'value': 'value_nc'}, inplace=True)\n",
    "\n",
    "# Sort by month\n",
    "rec_month_merged = rec_month_merged.sort_values('month').reset_index(drop=True)\n",
    "\n",
    "print(rec_month_merged)\n",
    "print(rec_month_merged.dtypes)"
   ]
  },
  {
   "cell_type": "code",
   "execution_count": null,
   "id": "ec9c0a67-8eaa-42c8-9ddd-b81e67484aca",
   "metadata": {},
   "outputs": [],
   "source": [
    "# Converting all values to integers (same data types) - removing NaN value\n",
    "rec_month_merged[['value_ar', 'value_ad', 'value_nc']] = (rec_month_merged[['value_ar', 'value_ad', 'value_nc']]\n",
    "                                                          .fillna(0)\n",
    "                                                          .astype(int))\n",
    "\n",
    "print(rec_month_merged)\n",
    "print(rec_month_merged.dtypes)"
   ]
  },
  {
   "cell_type": "markdown",
   "id": "ada2e6b1-dcf0-4d27-b56d-d605cfd3fc32",
   "metadata": {},
   "source": [
    "# "
   ]
  },
  {
   "cell_type": "markdown",
   "id": "3a2caa91",
   "metadata": {},
   "source": [
    "# Assignment activity 4"
   ]
  },
  {
   "cell_type": "markdown",
   "id": "946a2948",
   "metadata": {},
   "source": [
    "### Create visualisations and identify possible monthly and seasonal trends in the data."
   ]
  },
  {
   "cell_type": "code",
   "execution_count": null,
   "id": "c833e1ab",
   "metadata": {},
   "outputs": [],
   "source": [
    "# Import the necessary libraries.\n",
    "import seaborn as sns\n",
    "import matplotlib.pyplot as plt\n",
    "\n",
    "# Set figure size.\n",
    "sns.set(rc={'figure.figsize':(15, 12)})\n",
    "\n",
    "# Set the plot style as white.\n",
    "sns.set_style('white')"
   ]
  },
  {
   "cell_type": "markdown",
   "id": "9bb9d65d",
   "metadata": {},
   "source": [
    "### Objective 1\n",
    " > Create three visualisations indicating the number of appointments per month for service settings, context types, and national categories."
   ]
  },
  {
   "cell_type": "markdown",
   "id": "8dc07d9f-97c2-4fb1-a38e-125e3105b95e",
   "metadata": {},
   "source": [
    " > **Appointment counts by month**"
   ]
  },
  {
   "cell_type": "code",
   "execution_count": null,
   "id": "001088e0-7dd2-4e13-89fb-36275a6ab2fc",
   "metadata": {},
   "outputs": [],
   "source": [
    "# Show total appointments per month\n",
    "monthly_appt_count = (\n",
    "    ar.groupby(['appointment_month'])['count_of_appointments']\n",
    "    .sum()\n",
    "    .reset_index(name='count'))\n",
    "\n",
    "print(monthly_appt_count.dtypes)\n",
    "print(monthly_appt_count.head())\n",
    "\n",
    "# Convert date to datetime from Period\n",
    "monthly_appt_count['appointment_month'] = monthly_appt_count['appointment_month'].dt.to_timestamp()\n",
    "print(monthly_appt_count.dtypes)\n",
    "\n",
    "# Set count in millions\n",
    "monthly_appt_count['count_million'] = monthly_appt_count['count'] / 1e6\n",
    "\n",
    "# Lineplot to show trends\n",
    "fig1, ax = plt.subplots(figsize=(12,6))\n",
    "sns.lineplot(data=monthly_appt_count, x='appointment_month', y='count_million', \n",
    "             marker='o', color='#005EB8')\n",
    "\n",
    "# Title and Label\n",
    "plt.title('Appointment Count', fontsize=18, pad=20)\n",
    "plt.xlabel('Month', fontsize=14)\n",
    "plt.ylabel('Number of Appointments (millions)', fontsize=14)\n",
    "plt.xticks(rotation=30)\n",
    "\n",
    "plt.show()"
   ]
  },
  {
   "cell_type": "markdown",
   "id": "e0a3362f-275a-4303-bc1c-9b919030f9ab",
   "metadata": {},
   "source": [
    "<span style=\"color:purple\"><b>Insight: April 2020 saw the lowest appointment counts, with October 0f 2021 experiencing the most demand. Post Summer 2020, we are seeing an increase in appointments </b></span>"
   ]
  },
  {
   "cell_type": "code",
   "execution_count": null,
   "id": "6f9c0a05-0e17-4edf-acf0-b89336826b80",
   "metadata": {},
   "outputs": [],
   "source": [
    "fig1.savefig('fig1_monthly_appointments_trend.png', \n",
    "             dpi=300,       \n",
    "             bbox_inches='tight')"
   ]
  },
  {
   "cell_type": "markdown",
   "id": "b82916ae",
   "metadata": {},
   "source": [
    " > **Service settings:**"
   ]
  },
  {
   "cell_type": "code",
   "execution_count": null,
   "id": "5484dcbe-8879-42e2-8a48-0bc43753102f",
   "metadata": {},
   "outputs": [],
   "source": [
    "monthly_service_setting_count = (nc.groupby(['appointment_month', 'service_setting'])['count_of_appointments']\n",
    "                                 .sum()\n",
    "                                 .reset_index(name='count'))\n",
    "\n",
    "monthly_service_setting_count.head()"
   ]
  },
  {
   "cell_type": "code",
   "execution_count": null,
   "id": "24f0a4fa-714b-4d0b-9236-8eee806cc2c3",
   "metadata": {},
   "outputs": [],
   "source": [
    "# Plot the appointments over the available date range, and review the service settings for months.\n",
    "# Create a lineplot.\n",
    "# Set count in millions\n",
    "monthly_service_setting_count['count_million'] = monthly_service_setting_count['count'] / 1e6\n",
    "\n",
    "fig4, ax = plt.subplots(figsize=(12,6))\n",
    "sns.lineplot(\n",
    "    data = monthly_service_setting_count, x='appointment_month',\t\n",
    "    y='count_million',hue='service_setting',\n",
    "    marker='o', palette = 'Dark2')\n",
    "\n",
    "# Legend placement\n",
    "ax.legend(title='Service Setting', title_fontsize=12, fontsize=10,)\n",
    "\n",
    "# Labels and title\n",
    "plt.title('General Practice shows highest number of appointments across all service settings ', fontsize=18, pad=20)\n",
    "plt.xlabel('Month', fontsize=14)\n",
    "plt.ylabel('Number of Appointments (millions)', fontsize=14)\n",
    "plt.xticks(rotation=45)\n",
    "\n",
    "\n",
    "# View output.\n",
    "plt.show()"
   ]
  },
  {
   "cell_type": "markdown",
   "id": "aee90bd6-7f74-4e2b-bece-a534984aa412",
   "metadata": {},
   "source": [
    "<span style=\"color:purple\"><b>Insight:\n",
    "\n",
    "<span style=\"color:purple\"><b>General Practice (GP) records the highest number of appointments, indicating that GPs are being actively utilised, with relatively fewer appointments requiring additional support or reassignment to other roles.\n",
    "\n",
    "<span style=\"color:purple\"><b> As observed, the use of NHS appointments tends to increase during autumn and winter, leading up to Christmas. Interestingly, January and February see fewer appointments, followed by a sharp spike in March 2022, which then dips in April. This pattern is consistent across all service settings. Furthermore, the magnitude of the increase is proportionally larger for service settings that typically have higher appointment counts.</b></span>"
   ]
  },
  {
   "cell_type": "markdown",
   "id": "2472356e-7db9-44de-8841-a27c54eacb88",
   "metadata": {},
   "source": [
    "<span style=\"color:brown\"><b>Note: Find percentage of appointments that are GP (service setting) </b></span>"
   ]
  },
  {
   "cell_type": "code",
   "execution_count": null,
   "id": "61629519-6e5c-472a-8c17-259a36a7e355",
   "metadata": {},
   "outputs": [],
   "source": [
    "# Total number of appointments\n",
    "nc_total_appt_count = nc['count_of_appointments'].sum()\n",
    "print(nc_total_appt_count)\n",
    "\n",
    "# Total appointments for General Practice\n",
    "GP_service_setting_count = nc.loc[nc['service_setting'] == 'General Practice', 'count_of_appointments'].sum()\n",
    "\n",
    "# Percentage of appointments that are seen by GPs\n",
    "percent_GP = (GP_service_setting_count / nc_total_appt_count) * 100\n",
    "\n",
    "print(f\"The percentage of appointments conducted by GP is {percent_GP}%\")"
   ]
  },
  {
   "cell_type": "markdown",
   "id": "f99dcc59-0554-4618-8fa7-490234d4d27a",
   "metadata": {},
   "source": [
    "<span style=\"color:purple\"><b>Insight: 91.48% of appointments are seen by GP </b></span>"
   ]
  },
  {
   "cell_type": "code",
   "execution_count": null,
   "id": "939a3266-645b-4824-b12b-ddd948886c93",
   "metadata": {},
   "outputs": [],
   "source": [
    "fig4.savefig('fig4_General Practice shows highest number of appointments across all service settings.png', \n",
    "             dpi=300,       \n",
    "             bbox_inches='tight')"
   ]
  },
  {
   "cell_type": "markdown",
   "id": "8145c8d9",
   "metadata": {},
   "source": [
    " > **Context types:**"
   ]
  },
  {
   "cell_type": "code",
   "execution_count": null,
   "id": "1f23e5f8",
   "metadata": {},
   "outputs": [],
   "source": [
    "# Create a separate data set that can be used in future weeks. \n",
    "monthly_context_types_count = (\n",
    "    nc.groupby(['appointment_month', 'context_type'])['count_of_appointments']\n",
    "    .sum()\n",
    "    .reset_index(name='count'))\n",
    "\n",
    "# View output.\n",
    "monthly_context_types_count.head()"
   ]
  },
  {
   "cell_type": "code",
   "execution_count": null,
   "id": "ca2aa462",
   "metadata": {},
   "outputs": [],
   "source": [
    "# Plot the appointments over the available date range, and review the context types for months.\n",
    "# Create a lineplot.\n",
    "# Set count in millions\n",
    "monthly_context_types_count['count_million'] = monthly_context_types_count['count'] / 1e6\n",
    "\n",
    "fig_explore, ax = plt.subplots(figsize=(12,6))\n",
    "sns.lineplot(\n",
    "    data = monthly_context_types_count,\n",
    "    x='appointment_month',\n",
    "    y='count_million',\n",
    "    hue='context_type',\n",
    "    marker='o',\n",
    "    palette='Dark2')\n",
    "\n",
    "# Titles and labels\n",
    "plt.title('Care Related Encounter has highest number of appointments across all context types', fontsize=17, pad=20)\n",
    "plt.xlabel('Month', fontsize=14)\n",
    "plt.ylabel('Number of Appointments (millions)', fontsize=14)\n",
    "plt.xticks(rotation=45)\n",
    "\n",
    "# Legend\n",
    "ax.legend(\n",
    "    title='Context Type',\n",
    "    title_fontsize=12,\n",
    "    fontsize=10)\n",
    "\n",
    "plt.show()"
   ]
  },
  {
   "cell_type": "markdown",
   "id": "125b8795-2b99-4844-8e97-9765edf017ff",
   "metadata": {},
   "source": [
    "<span style=\"color:brown\"><b>Note: Find percentage of appointments that are CRE (context type) </b></span>"
   ]
  },
  {
   "cell_type": "code",
   "execution_count": null,
   "id": "68b90e59-23cf-4a2b-905a-5c2b11a0355b",
   "metadata": {},
   "outputs": [],
   "source": [
    "# Total appointments for General Practice\n",
    "CRE_contect_type_count = nc.loc[nc['context_type'] == 'Care Related Encounter', 'count_of_appointments'].sum()\n",
    "\n",
    "# Percentage of appointments that are seen by GPs\n",
    "percent_CRE = (CRE_contect_type_count / nc_total_appt_count) * 100\n",
    "\n",
    "print(f\"The percentage of appointments conducted by CRE is {percent_CRE}%\")"
   ]
  },
  {
   "cell_type": "markdown",
   "id": "3ca1eb90-ca92-45a3-b90c-2b9756b69f7f",
   "metadata": {},
   "source": [
    "<span style=\"color:purple\"><b>Insight: 86.95% of appointments are Care Related Encounters </b></span>"
   ]
  },
  {
   "cell_type": "markdown",
   "id": "e7d64afe",
   "metadata": {},
   "source": [
    ">**National categories:**"
   ]
  },
  {
   "cell_type": "code",
   "execution_count": null,
   "id": "3b22addb",
   "metadata": {},
   "outputs": [],
   "source": [
    "# Create a separate data set that can be used in future weeks. \n",
    "monthly_nat_cat_count = (nc.groupby(['appointment_month', 'national_category'])['count_of_appointments']\n",
    "                         .sum()\n",
    "                         .reset_index(name='count'))\n",
    "\n",
    "# View output.\n",
    "monthly_nat_cat_count.head()"
   ]
  },
  {
   "cell_type": "code",
   "execution_count": null,
   "id": "6ccc0541",
   "metadata": {},
   "outputs": [],
   "source": [
    "# Plot the appointments over the available date range, and review the national categories for months.\n",
    "# Create a lineplot.\n",
    "# Set count in millions\n",
    "monthly_nat_cat_count['count_million'] = monthly_nat_cat_count['count'] / 1e6\n",
    "\n",
    "fig_explore, ax = plt.subplots(figsize=(20, 10)) \n",
    "sns.lineplot(\n",
    "    data=monthly_nat_cat_count, x='appointment_month',\n",
    "    y='count_million', hue='national_category',\n",
    "    marker='o',  palette='Dark2')\n",
    "\n",
    "# Labels and title\n",
    "plt.title('General Consultation Routine shows highest appointment count', fontsize=24, pad=20)\n",
    "plt.xlabel('Month', fontsize=16)\n",
    "plt.ylabel('Number of Appointments (millions)', fontsize=16) \n",
    "plt.xticks(rotation=45, fontsize=12) \n",
    "\n",
    "# Legend customization\n",
    "ax.legend(\n",
    "    title='National Category', \n",
    "    fontsize=12, \n",
    "    title_fontsize=14, \n",
    "    loc='lower center', # Move to lower center\n",
    "    bbox_to_anchor=(0.5, -0.4), # Adjust vertical position\n",
    "    ncol=3)\n",
    "    \n",
    "plt.show()"
   ]
  },
  {
   "cell_type": "markdown",
   "id": "25ee2e13-1128-4c84-9804-016b5aa728e5",
   "metadata": {},
   "source": [
    "<span style=\"color:brown\"><b>Note: Hard to read legend as colours have been repeated, so look into how to organise the legend by graph order </b></span>"
   ]
  },
  {
   "cell_type": "code",
   "execution_count": null,
   "id": "2f65a692-0145-4844-b190-8d9c50bd9502",
   "metadata": {},
   "outputs": [],
   "source": [
    "#Organise legend by number of appointments\n",
    "nat_cat_order = (monthly_nat_cat_count.groupby('national_category')['count']\n",
    "                 .sum()\n",
    "                 .sort_values(ascending=False)\n",
    "                 .index)\n",
    "\n",
    "# Create a lineplot\n",
    "# Set count in millions\n",
    "monthly_nat_cat_count['count_million'] = monthly_nat_cat_count['count'] / 1e6\n",
    "\n",
    "fig_explore, ax = plt.subplots(figsize=(20, 10)) \n",
    "sns.lineplot(\n",
    "    data=monthly_nat_cat_count, x='appointment_month',\n",
    "    y='count_million',  hue='national_category',  \n",
    "    hue_order=nat_cat_order, marker='o', palette='Dark2')\n",
    "\n",
    "# Labels and title\n",
    "plt.title('General Consultation Routine shows highest appointment count', fontsize=24, pad=20)\n",
    "plt.xlabel('Month', fontsize=16)\n",
    "plt.ylabel('Number of Appointments (millions)', fontsize=16) \n",
    "plt.xticks(rotation=45, fontsize=12) \n",
    "\n",
    "# Legend customization\n",
    "ax.legend(\n",
    "    title='National Category', \n",
    "    fontsize=12, \n",
    "    title_fontsize=14, \n",
    "    loc='lower center', # Move to lower center\n",
    "    bbox_to_anchor=(0.5, -0.4), # Adjust vertical position\n",
    "    ncol=3)\n",
    "    \n",
    "plt.show()"
   ]
  },
  {
   "cell_type": "markdown",
   "id": "a8e70f6b",
   "metadata": {},
   "source": [
    "### Objective 2\n",
    "Create four visualisations indicating the number of appointments for service setting per season. The seasons are summer (June to August 2021), autumn (September to November 2021), winter (December to February 2022), and spring (March to May 2022)."
   ]
  },
  {
   "cell_type": "markdown",
   "id": "9f2e1169",
   "metadata": {},
   "source": [
    ">**Summer (June to August 2021):**"
   ]
  },
  {
   "cell_type": "code",
   "execution_count": null,
   "id": "9a3586e8",
   "metadata": {},
   "outputs": [],
   "source": [
    "# Create a separate data set that can be used in future weeks. \n",
    "# Assign summer months\n",
    "summer_months = ['2021-06', '2021-07', '2021-08']\n",
    "\n",
    "appt_service_setting_summer = (nc[nc['appointment_month'].isin(summer_months)] \n",
    "                               .groupby(['appointment_month', 'service_setting'])['count_of_appointments']\n",
    "                               .sum()\n",
    "                               .reset_index(name='count'))\n",
    "\n",
    "# View output.\n",
    "appt_service_setting_summer"
   ]
  },
  {
   "cell_type": "code",
   "execution_count": null,
   "id": "b7f7857c",
   "metadata": {},
   "outputs": [],
   "source": [
    "# Look at June to August 2021 in more detail to allow a closer look.\n",
    "# Create a lineplot.\n",
    "fig_explore, ax = plt.subplots(figsize=(12, 6)) \n",
    "sns.lineplot(data= appt_service_setting_summer, x='appointment_month',\n",
    "             y='count', hue='service_setting', marker ='o', palette = 'Dark2')\n",
    "plt.show()"
   ]
  },
  {
   "cell_type": "markdown",
   "id": "d94c5a0a-d058-4884-8e66-69d867360f93",
   "metadata": {},
   "source": [
    "<span style=\"color:brown\"><b>Note: Since only August 2021 is included, there isn’t enough data to make the graph useful. </b></span>"
   ]
  },
  {
   "cell_type": "markdown",
   "id": "5d356e45",
   "metadata": {},
   "source": [
    ">**Autumn (September to November 2021):**"
   ]
  },
  {
   "cell_type": "code",
   "execution_count": null,
   "id": "fedd3cb6",
   "metadata": {},
   "outputs": [],
   "source": [
    "# Look at September to November 2021 in more detail to allow a closer look.\n",
    "autumn_months= ('2021-09', '2021-10', '2021-11')\n",
    "\n",
    "appt_service_setting_autumn = (\n",
    "    nc[nc['appointment_month'].isin(autumn_months)] \n",
    "    .groupby(['appointment_month', 'service_setting'])['count_of_appointments']\n",
    "    .sum()\n",
    "    .reset_index(name='count'))\n",
    "\n",
    "# View output.\n",
    "print(appt_service_setting_autumn)\n",
    "\n",
    "# Set count in millions\n",
    "appt_service_setting_autumn['count_million'] = appt_service_setting_autumn['count'] / 1e6\n",
    "\n",
    "# Create a lineplot.\n",
    "fig_explore, ax = plt.subplots(figsize=(12,6))\n",
    "sns.lineplot(data=appt_service_setting_autumn, x='appointment_month', y='count_million', \n",
    "             hue='service_setting', marker='o', palette='Dark2')\n",
    "\n",
    "# Titles and labels\n",
    "plt.title('Number of appointments in Autum 2021', fontsize=18, pad=20)\n",
    "plt.xlabel('Month')\n",
    "plt.ylabel('Number of Appointments (millions)')\n",
    "plt.xticks(rotation=30)\n",
    "\n",
    "# Legend customisation\n",
    "plt.legend(title='Service Setting')\n",
    "\n",
    "plt.show()"
   ]
  },
  {
   "cell_type": "markdown",
   "id": "adf4194a",
   "metadata": {},
   "source": [
    ">**Winter (December to February 2022):**"
   ]
  },
  {
   "cell_type": "code",
   "execution_count": null,
   "id": "ffca2ed1",
   "metadata": {},
   "outputs": [],
   "source": [
    "# Look at December to February 2022 in more detail to allow a closer look.\n",
    "winter_months = ('2021-12', '2022-01', '2022-02')\n",
    "\n",
    "appt_service_setting_winter = (\n",
    "    nc[nc['appointment_month'].isin(winter_months)]\n",
    "    .groupby(['appointment_month', 'service_setting'])['count_of_appointments']\n",
    "    .sum()\n",
    "    .reset_index(name='count'))\n",
    "\n",
    "# Set count in millions\n",
    "appt_service_setting_winter['count_million'] = appt_service_setting_winter['count'] / 1e6\n",
    "\n",
    "# Create a lineplot.\n",
    "fig_explore, ax = plt.subplots(figsize=(12,6))\n",
    "sns.lineplot(data=appt_service_setting_winter, x='appointment_month', y='count_million', \n",
    "             hue='service_setting', marker='o', palette='Dark2')\n",
    "\n",
    "# Title and labels\n",
    "plt.title('Number of appointments in the Winter of 2021-2022')\n",
    "plt.xlabel('Month')\n",
    "plt.ylabel('Number of Appointments (millions)')\n",
    "plt.xticks(rotation=30)\n",
    "\n",
    "# Legend customisation\n",
    "plt.legend(title='Service Setting')\n",
    "\n",
    "plt.show()"
   ]
  },
  {
   "cell_type": "markdown",
   "id": "fd411d37",
   "metadata": {},
   "source": [
    ">**Spring (March to May 2022):**"
   ]
  },
  {
   "cell_type": "code",
   "execution_count": null,
   "id": "74f43b1d",
   "metadata": {},
   "outputs": [],
   "source": [
    "# Look at March to May 2022 in more detail to allow a closer look.\n",
    "# Create a lineplot.\n",
    "spring_months = ('2022-03', '2022-04', '2022-05')\n",
    "\n",
    "appt_service_setting_spring = (\n",
    "    nc[nc['appointment_month'].isin(spring_months)]\n",
    "    .groupby(['appointment_month', 'service_setting'])['count_of_appointments']\n",
    "    .sum()\n",
    "    .reset_index(name='count'))  \n",
    "\n",
    "# Set count in millions\n",
    "appt_service_setting_spring['count_million'] = appt_service_setting_spring['count'] / 1e6\n",
    "\n",
    "# Create a lineplot.\n",
    "fig_explore, ax = plt.subplots(figsize=(12,6))\n",
    "sns.lineplot(data=appt_service_setting_spring, x='appointment_month', y='count_million', \n",
    "             hue='service_setting', marker='o', palette='Dark2')\n",
    "\n",
    "# Title and labels\n",
    "plt.title('Number of appointments in the Spring of 2022')\n",
    "plt.xlabel('Month')\n",
    "plt.ylabel('Number of Appointments (million)')\n",
    "plt.xticks(rotation=30)\n",
    "\n",
    "# Legend customisation\n",
    "plt.legend(title='Service Setting')\n",
    "\n",
    "plt.show()"
   ]
  },
  {
   "cell_type": "markdown",
   "id": "b2653726-fdf6-419c-968f-c1e75352b2f2",
   "metadata": {},
   "source": [
    "### Objective 3\n",
    "Generate further insights to better understand NHS appointment data across hospitals, focusing on factors such as appointment times, popularity, common types, and performance metrics. The aim is to identify patterns, trends and opportunities for improving service delivery and resource allocation.\n"
   ]
  },
  {
   "cell_type": "markdown",
   "id": "19aede8b-695d-4670-8f3a-410cdcc54796",
   "metadata": {},
   "source": [
    ">**Time between appointments**"
   ]
  },
  {
   "cell_type": "code",
   "execution_count": null,
   "id": "f24b070e-1c71-4f1a-8148-a13d44be84c6",
   "metadata": {},
   "outputs": [],
   "source": [
    "# Group by month and time between booking and appointment\n",
    "monthly_time_between_appt_count = (ar.groupby(['appointment_month', 'time_between_book_and_appointment'])['count_of_appointments']\n",
    "                                   .sum()\n",
    "                                   .reset_index())\n",
    "\n",
    "monthly_time_between_appt_count.head()"
   ]
  },
  {
   "cell_type": "code",
   "execution_count": null,
   "id": "81f8f9c5-a755-4271-98ef-d866700b6049",
   "metadata": {
    "scrolled": true
   },
   "outputs": [],
   "source": [
    "# Create a separate data set that can be used in future weeks. \n",
    "# Categorise by response time order for plot\n",
    "order = ['Same Day',\n",
    "         '1 Day',\n",
    "         '2 to 7 Days',\n",
    "         '8 to 14 Days',\n",
    "         '15 to 21 Days',\n",
    "         '22 to 28 Days',\n",
    "         'More than 28 Days',\n",
    "         'Unknown / Data Quality']\n",
    "\n",
    "monthly_time_between_appt_count['time_between_book_and_appointment'] = pd.Categorical(\n",
    "    monthly_time_between_appt_count['time_between_book_and_appointment'], categories=order, ordered=True)\n",
    "\n",
    "# View output.\n",
    "print(monthly_time_between_appt_count)\n",
    "\n",
    "# Plot the appointments over the available date range, and review the context types for months.\n",
    "# Create a lineplot\n",
    "# Set count in millions\n",
    "monthly_time_between_appt_count['count_million'] = monthly_time_between_appt_count['count_of_appointments'] / 1e6\n",
    "\n",
    "# Convert Period (M) data to timestamp\n",
    "monthly_time_between_appt_count['appointment_month'] = monthly_time_between_appt_count['appointment_month'].dt.to_timestamp()\n",
    "\n",
    "fig2, ax = plt.subplots(figsize=(12,6))\n",
    "sns.lineplot(\n",
    "    data = monthly_time_between_appt_count,\n",
    "    x='appointment_month',\n",
    "    y='count_million',\n",
    "    hue='time_between_book_and_appointment',\n",
    "    marker='o',\n",
    "    palette='tab20c')\n",
    "\n",
    "# Titles and labels\n",
    "plt.title('Same-day appointments represent the most frequent booking-to-appointment interval', fontsize=17, pad=20)\n",
    "plt.xlabel('Month', fontsize=14)\n",
    "plt.ylabel('Number of Appointments (millions)', fontsize=14)\n",
    "plt.xticks(rotation=45)\n",
    "\n",
    "# Legend\n",
    "ax.legend(\n",
    "    title='Time between book and appointment',\n",
    "    title_fontsize=12,\n",
    "    fontsize=10,\n",
    "    loc='center left',\n",
    "    bbox_to_anchor=(1, 0.75),)\n",
    "\n",
    "plt.show()"
   ]
  },
  {
   "cell_type": "markdown",
   "id": "4359b46b-e30c-4e84-a2af-e420e898baa2",
   "metadata": {},
   "source": [
    "<span style=\"color:brown\"><b>Note: Calculate the percentage of appointments occurring on the same day as booking, within a week, and those taking more than 28 days. </b></span>"
   ]
  },
  {
   "cell_type": "code",
   "execution_count": null,
   "id": "821dc2b4-5419-480c-964f-d9be3ab00578",
   "metadata": {},
   "outputs": [],
   "source": [
    "fig2.savefig('fig2_Same-day appointments represent the most frequent booking-to-appointment interval.png', dpi=300, bbox_inches='tight')"
   ]
  },
  {
   "cell_type": "markdown",
   "id": "42ebd479-be00-4600-8ba1-009fdcd26a35",
   "metadata": {},
   "source": [
    ">**Same Day percentage**"
   ]
  },
  {
   "cell_type": "code",
   "execution_count": null,
   "id": "e32aaa01-503d-4691-9fe5-02177e60fc0a",
   "metadata": {},
   "outputs": [],
   "source": [
    "ar_total_appt_count = ar['count_of_appointments'].sum()\n",
    "print(ar_total_appt_count)\n",
    "\n",
    "# Total appointments for Same Day\n",
    "same_day_appt_count = ar.loc[ar['time_between_book_and_appointment'] == 'Same Day', 'count_of_appointments'].sum()\n",
    "\n",
    "# Percent same day\n",
    "percent_same_day = (same_day_appt_count / ar_total_appt_count) * 100\n",
    "\n",
    "print(f\"The percentage of appointments conducted in the same day is {percent_same_day}%\")"
   ]
  },
  {
   "cell_type": "markdown",
   "id": "20fecf74-838e-4c22-9468-7793b6618263",
   "metadata": {},
   "source": [
    "<span style=\"color:purple\"><b>Insights: Less than 50% of appointmnets are seen on the same day as when they were booked </b></span>"
   ]
  },
  {
   "cell_type": "markdown",
   "id": "129f6459-2aa3-44d7-a5fe-0860a8a59f34",
   "metadata": {},
   "source": [
    ">**Same Day or 1 Day percentage**"
   ]
  },
  {
   "cell_type": "code",
   "execution_count": null,
   "id": "b9862f3a-34df-411d-9f24-1e8bb5617f02",
   "metadata": {},
   "outputs": [],
   "source": [
    "# Define the time categories\n",
    "same_1_day = ['Same Day', '1 Day']\n",
    "\n",
    "# Total appointments for Same Day or 1 Day\n",
    "same_1_day_appt_count = ar.loc[ar['time_between_book_and_appointment'].isin(same_1_day), 'count_of_appointments'].sum()\n",
    "\n",
    "# Percent Same Day or 1 day\n",
    "percent_same_1_day = (same_1_day_appt_count / ar_total_appt_count) * 100\n",
    "\n",
    "print(f\"The percentage of appointments conducted in the same day or in 1 day is {percent_same_1_day}%\")"
   ]
  },
  {
   "cell_type": "markdown",
   "id": "088f156d-9e08-4302-9f41-c23c6976c3ce",
   "metadata": {},
   "source": [
    "<span style=\"color:purple\"><b>Insights: Just over than 50% of appointments are seen on the same day as or 1 day within  when they were booked </b></span>"
   ]
  },
  {
   "cell_type": "markdown",
   "id": "cc1a2755-1a10-42fc-a08e-29a5e65896fc",
   "metadata": {},
   "source": [
    ">**Past 28 Days percentage**"
   ]
  },
  {
   "cell_type": "code",
   "execution_count": null,
   "id": "fb1be30d-eb1b-44dc-a31f-60a61607bfae",
   "metadata": {},
   "outputs": [],
   "source": [
    "# Total appointments for 28+ Days\n",
    "days_28_appt_count = ar.loc[ar['time_between_book_and_appointment'] == 'More than 28 Days', 'count_of_appointments'].sum()\n",
    "\n",
    "# Percent 28+ Days\n",
    "percent_28_days = (days_28_appt_count / ar_total_appt_count) * 100\n",
    "\n",
    "print(f\"The percentage of appointments conducted almost a month after booking is {percent_28_days}%\")"
   ]
  },
  {
   "cell_type": "markdown",
   "id": "27d68e10-4bc8-4157-b342-3e3db88d1406",
   "metadata": {},
   "source": [
    "<span style=\"color:purple\"><b>Insights: Less than 5% of appointments are seen a month after booking. </b></span>"
   ]
  },
  {
   "cell_type": "markdown",
   "id": "ee7bbfbf-e8e4-42c4-9f26-d4f02052ff3a",
   "metadata": {},
   "source": [
    ">**Understanding which time periods or dates are missing in the line plot - does the pattern of missing data reveal anything?**"
   ]
  },
  {
   "cell_type": "code",
   "execution_count": null,
   "id": "517f99ad-11f5-49c5-a475-0900cddd41a0",
   "metadata": {},
   "outputs": [],
   "source": [
    "# Total appointment counts relationships between categories of time\n",
    "# Create a barplot\n",
    "# Set count in millions\n",
    "monthly_time_between_appt_count['count_million'] = monthly_time_between_appt_count['count_of_appointments'] / 1e6\n",
    "\n",
    "fig_explore, ax = plt.subplots(figsize=(12,6))\n",
    "sns.barplot(\n",
    "    data = monthly_time_between_appt_count,\n",
    "    x='time_between_book_and_appointment',\n",
    "    y='count_million', color='#005EB8')\n",
    "\n",
    "# Titles and labels\n",
    "plt.title('Most appointments are seen within 7 days of booking', fontsize=17, pad=20)\n",
    "plt.xlabel('Month', fontsize=14)\n",
    "plt.ylabel('Number of Appointments (millions)', fontsize=14)\n",
    "plt.xticks(rotation=30)\n",
    "\n",
    "plt.show()"
   ]
  },
  {
   "cell_type": "markdown",
   "id": "3dcd1961-aa55-49c4-a66f-1abb5a3e40d9",
   "metadata": {},
   "source": [
    "<span style=\"color:purple\"><b>Insights: It’s unusual that three of the time categories between booking and appointment show no recorded counts. This pattern may suggest that once appointments extend beyond a week, they are either deprioritised and/or delayed. It’s also possible that appointments past a certain threshold trigger administrative actions, such as reminders or rebookings, causing them to reappear only once they reach the one-month mark. </b></span>"
   ]
  },
  {
   "cell_type": "markdown",
   "id": "26516d20-24c9-4440-9e0a-b239cb5bbb70",
   "metadata": {},
   "source": [
    ">**How many people attended their appointments?**"
   ]
  },
  {
   "cell_type": "code",
   "execution_count": null,
   "id": "c0199048-9339-462c-85a8-97e569a4e3bc",
   "metadata": {},
   "outputs": [],
   "source": [
    "# Group by attendance type \n",
    "attendance_count = (ar.groupby('appointment_status')['count_of_appointments']\n",
    "                    .sum()\n",
    "                    .reset_index(name='count'))\n",
    "\n",
    "attendance_count"
   ]
  },
  {
   "cell_type": "code",
   "execution_count": null,
   "id": "94a7739b-363b-4563-a6ed-585b673234ec",
   "metadata": {},
   "outputs": [],
   "source": [
    "# Create a barplot\n",
    "# Set count in millions\n",
    "attendance_count['count_million'] = attendance_count['count'] / 1e6\n",
    "\n",
    "fig11b, ax = plt.subplots(figsize=(12,6))\n",
    "sns.barplot(\n",
    "    data = attendance_count,\n",
    "    x='appointment_status',\n",
    "    y='count_million', color='#005EB8')\n",
    "\n",
    "# Titles and labels\n",
    "plt.title('Appointment attendance rate', fontsize=17, pad=20)\n",
    "plt.xlabel('Month', fontsize=14)\n",
    "plt.ylabel('Number of Appointments (millions)', fontsize=14)\n",
    "plt.xticks(rotation=30)\n",
    "\n",
    "plt.show()"
   ]
  },
  {
   "cell_type": "code",
   "execution_count": null,
   "id": "26b6fafa-91bb-4be2-8c85-71c339a2ded1",
   "metadata": {},
   "outputs": [],
   "source": [
    "fig11b.savefig('fig11b_91% of appointments are attended', dpi=300, bbox_inches='tight')"
   ]
  },
  {
   "cell_type": "markdown",
   "id": "9e2bb1cc-6395-4e4d-872e-ddf57e5ba2a9",
   "metadata": {},
   "source": [
    ">**Percentage of appointments attended**"
   ]
  },
  {
   "cell_type": "code",
   "execution_count": null,
   "id": "a621f244-8d55-4432-bb6a-acbe064d7e09",
   "metadata": {},
   "outputs": [],
   "source": [
    "# Attended appointments\n",
    "attend_count = ar.loc[ar['appointment_status'] == 'Attended', 'count_of_appointments'].sum()\n",
    "\n",
    "# Percent 28+ Days\n",
    "percent_attend_count = (attend_count / ar_total_appt_count) * 100\n",
    "\n",
    "print(f\"The percentage of appointments that we attended is {percent_attend_count}%\")"
   ]
  },
  {
   "cell_type": "markdown",
   "id": "e6404c32-8906-49e7-acbb-542bf9722d7c",
   "metadata": {},
   "source": [
    "<span style=\"color:purple\"><b>Insight: Around 90% of appointments are attended. </b></span>"
   ]
  },
  {
   "cell_type": "markdown",
   "id": "f5e2c11c-c34b-4528-a0cf-e36a01159be8",
   "metadata": {},
   "source": [
    ">**What was the most popular appointment mode?**"
   ]
  },
  {
   "cell_type": "code",
   "execution_count": null,
   "id": "7b7f206a-8c8b-437a-9f2a-a563ef844d19",
   "metadata": {},
   "outputs": [],
   "source": [
    "# Calculate count by appointment type\n",
    "appointment_mode_count = (ar.groupby('appointment_mode')['count_of_appointments']\n",
    "                          .sum()\n",
    "                          .sort_values(ascending=False)\n",
    "                          .reset_index(name='count'))\n",
    "\n",
    "appointment_mode_count.head()                    "
   ]
  },
  {
   "cell_type": "code",
   "execution_count": null,
   "id": "18e09e0a-f4e0-4fd1-93b4-77513acb6aa6",
   "metadata": {},
   "outputs": [],
   "source": [
    "# Set count in millions\n",
    "appointment_mode_count['count in millions'] = appointment_mode_count['count'] / 1e6\n",
    "\n",
    "# Create bar plot \n",
    "fig5, ax = plt.subplots(figsize=(12,6))\n",
    "sns.barplot(data=appointment_mode_count, x='appointment_mode', y='count in millions', color='#005EB8')\n",
    "\n",
    "# Title and label\n",
    "plt.title('Face-to-Face appointments are the most popular', fontsize=18)\n",
    "plt.xlabel('Appointment Mode', fontsize=14)\n",
    "plt.ylabel('Number of Appointments (millions)', fontsize=14)\n",
    "\n",
    "plt.show()"
   ]
  },
  {
   "cell_type": "code",
   "execution_count": null,
   "id": "31fa5cd1-c44d-4e15-942c-3761170f48a3",
   "metadata": {},
   "outputs": [],
   "source": [
    "# Face-to-face appointments count\n",
    "f2f_count = ar.loc[ar['appointment_mode'] == 'Face-to-Face', 'count_of_appointments'].sum()\n",
    "\n",
    "# Percent face-to-face\n",
    "percent_f2f_count = (f2f_count / ar_total_appt_count) * 100\n",
    "\n",
    "print(f\"The percentage of appointments that we attended is {percent_f2f_count}%\")\n",
    "\n",
    "# Telephone appointments count\n",
    "telephone_count = ar.loc[ar['appointment_mode'] == 'Telephone', 'count_of_appointments'].sum()\n",
    "\n",
    "# Percent telephone\n",
    "percent_telephone_count = (telephone_count / ar_total_appt_count) * 100\n",
    "\n",
    "print(f\"The percentage of appointments that we attended is {percent_telephone_count}%\")"
   ]
  },
  {
   "cell_type": "markdown",
   "id": "1f2ba882-e0ab-4eee-88cc-4e93bc4a65ac",
   "metadata": {},
   "source": [
    "<span style=\"color:purple\"><b>Insights: Around 60% of appointments are Face-to-face, with around 35% done via telephone </b></span>"
   ]
  },
  {
   "cell_type": "code",
   "execution_count": null,
   "id": "05a59a2e-85d4-4464-a74d-d3cc97af1d7d",
   "metadata": {},
   "outputs": [],
   "source": [
    "fig5.savefig('fig5_Face-to-Face appointments are the most popular', dpi=300, bbox_inches='tight')"
   ]
  },
  {
   "cell_type": "markdown",
   "id": "ac94f8a1-a1a4-4422-b7f3-bfb33f9049b0",
   "metadata": {},
   "source": [
    ">**Actual duration of appointments**"
   ]
  },
  {
   "cell_type": "code",
   "execution_count": null,
   "id": "6bde2754-5f29-433e-9a1e-15c012883a35",
   "metadata": {},
   "outputs": [],
   "source": [
    "# Calculate count by appointment type\n",
    "order = [\n",
    "    '1-5 Minutes',\n",
    "    '6-10 Minutes',\n",
    "    '11-15 Minutes',\n",
    "    '16-20 Minutes',\n",
    "    '21-30 Minutes',\n",
    "    '31-60 Minutes',\n",
    "    'Unknown / Data Quality']\n",
    "\n",
    "# Convert to categorical with the desired order\n",
    "ad['actual_duration'] = pd.Categorical(ad['actual_duration'], categories=order, ordered=True)\n",
    "\n",
    "# Calculate count by duration type\n",
    "duration_count = (ad.groupby('actual_duration', as_index=False)['count_of_appointments']\n",
    "                  .sum()\n",
    "                  .sort_values('actual_duration'))\n",
    "\n",
    "duration_count"
   ]
  },
  {
   "cell_type": "code",
   "execution_count": null,
   "id": "5bc27115-95ad-4920-a174-2756f4002b8e",
   "metadata": {},
   "outputs": [],
   "source": [
    "# Set count in millions\n",
    "duration_count ['count in millions'] = duration_count  ['count_of_appointments'] / 1e6\n",
    "\n",
    "# Create bar plot \n",
    "fig3, ax = plt.subplots(figsize=(12,6))\n",
    "sns.barplot(data=duration_count  , x='actual_duration', y='count in millions', color='#005EB8')\n",
    "\n",
    "# Title and label\n",
    "plt.title('6-10 minute appointments are more common than any other appointment duration', fontsize=18, pad=20)\n",
    "plt.xlabel('Appointment Duration', fontsize=14)\n",
    "plt.ylabel('Number of Appointments (millions)', fontsize=14)\n",
    "\n",
    "plt.show()"
   ]
  },
  {
   "cell_type": "code",
   "execution_count": null,
   "id": "708b4727-7b09-4041-b2e6-b901632251c4",
   "metadata": {},
   "outputs": [],
   "source": [
    "fig3.savefig('fig3_6-10 minute appointments are more common than any other appointment duration', dpi=300, bbox_inches='tight')"
   ]
  },
  {
   "cell_type": "markdown",
   "id": "fe8b683c-8f0b-4fc4-8fde-d329bfb57117",
   "metadata": {},
   "source": [
    ">**Percentage of appointments complete within NHS targets of 10 mins**"
   ]
  },
  {
   "cell_type": "code",
   "execution_count": null,
   "id": "6679e48a-d48b-4dff-aabf-73e83d82fef1",
   "metadata": {},
   "outputs": [],
   "source": [
    "# Count number of appointments in ar\n",
    "ad_total_appt_count = ad['count_of_appointments'].sum()\n",
    "\n",
    "# Establish target categories\n",
    "NHS_targets_10 = ['1-5 Minutes', '6-10 Minutes']\n",
    "\n",
    "# 10 mins target count\n",
    "NHS_targets_10_count = ad.loc[ad['actual_duration'].isin(NHS_targets_10), 'count_of_appointments'].sum()\n",
    "\n",
    "# Percent at target\n",
    "percent_NHS_targets_10_count = (NHS_targets_10_count / ad_total_appt_count) * 100\n",
    "\n",
    "print(f\"The percentage of appointments held within the appointment target duration of 10 mins is {percent_NHS_targets_10_count}%\")"
   ]
  },
  {
   "cell_type": "markdown",
   "id": "badd565e-4722-44fb-a879-1331054b18ac",
   "metadata": {},
   "source": [
    ">**Percentage of appointments complete within NHS targets of 15 mins (max threshold)**"
   ]
  },
  {
   "cell_type": "code",
   "execution_count": null,
   "id": "3856b05f-cf5b-4d1a-bda0-6987ad945bcc",
   "metadata": {},
   "outputs": [],
   "source": [
    "# Establish target categories\n",
    "NHS_targets_15 = ['1-5 Minutes', '6-10 Minutes', '11-15 Minutes']\n",
    "\n",
    "# 10 mins target count\n",
    "NHS_targets_15_count = ad.loc[ad['actual_duration'].isin(NHS_targets_15), 'count_of_appointments'].sum()\n",
    "\n",
    "# Percent at target\n",
    "percent_NHS_targets_15_count = (NHS_targets_15_count / ad_total_appt_count) * 100\n",
    "\n",
    "print(f\"The percentage of appointments held within the appointment target duration of 15 mins consultation + admin time) is {percent_NHS_targets_15_count}%\")"
   ]
  },
  {
   "cell_type": "markdown",
   "id": "b308c8a8-3db2-4e72-9066-e752efae9fa8",
   "metadata": {},
   "source": [
    "<span style=\"color:purple\"><b>Insight: Only 50% of appointments are seen in the standard 15 mins target  </b></span>"
   ]
  },
  {
   "cell_type": "markdown",
   "id": "be4cc137-12bd-4fa4-b3b1-53f8957ea32c",
   "metadata": {},
   "source": [
    "<span style=\"color:brown\"><b>Note: The percentages derived from the known appointment durations can be used to proportionally distribute the “Unknown / Data Quality” appointments across these same categories. This may provide a more representative estimate of the overall appointment duration breakdown.</b></span>"
   ]
  },
  {
   "cell_type": "code",
   "execution_count": null,
   "id": "4222f731-88fa-4c31-aa3a-3cb71da4155b",
   "metadata": {},
   "outputs": [],
   "source": [
    "# Establish durations included in this new calculation\n",
    "unknown_data_durations = ['Unknown / Data Quality']\n",
    "\n",
    "# Unknown data appointment count \n",
    "NHS_unknown_data_count = ad.loc[ad['actual_duration'].isin(unknown_data_durations), 'count_of_appointments'].sum()\n",
    "\n",
    "# Estimate how many of the unknown appointments are likely within the 10-minute target\n",
    "NHS_targets_10_from_unknown_data_count = ((percent_NHS_targets_10_count / 100) * NHS_unknown_data_count)\n",
    "\n",
    "# Combine documented target 10 count with additional count\n",
    "NHS_targets_10_est_data_count= (NHS_targets_10_count + NHS_targets_10_from_unknown_data_count)\n",
    "\n",
    "# Recalculate percentage of total appointments reaching target\n",
    "percent_targets_10_est_data = (NHS_targets_10_est_data_count / ad_total_appt_count) * 100\n",
    "\n",
    "print(f\"The estimated percentage of appointments held within the NHS 10-minute target \"\n",
    "    f\"(including redistributed unknown data) is {percent_targets_10_est_data}%.\")"
   ]
  },
  {
   "cell_type": "code",
   "execution_count": null,
   "id": "513e6a0c-4f99-4e83-a5af-97b322c3097d",
   "metadata": {},
   "outputs": [],
   "source": [
    "# Estimate how many of the unknown appointments are likely within the 15-minute (max) target\n",
    "NHS_targets_15_from_unknown_data_count = ((percent_NHS_targets_15_count / 100) * NHS_unknown_data_count)\n",
    "\n",
    "# Combine documented target 10 count with additional count\n",
    "NHS_targets_15_est_data_count= (NHS_targets_15_count + NHS_targets_15_from_unknown_data_count)\n",
    "\n",
    "# Recalculate percentage of total appointments reaching target\n",
    "percent_targets_15_est_data = (NHS_targets_15_est_data_count / ad_total_appt_count) * 100\n",
    "\n",
    "print(f\"The estimated percentage of appointments held within the NHS 10-minute target \"\n",
    "    f\"(including redistributed unknown data) is {percent_targets_15_est_data}%.\")"
   ]
  },
  {
   "cell_type": "markdown",
   "id": "e9033a37-df99-42bf-9c27-cee3bd53f1ba",
   "metadata": {},
   "source": [
    "<span style=\"color:purple\"><b>Insight: 30% of appointments overrun  </b></span>"
   ]
  },
  {
   "cell_type": "markdown",
   "id": "92aa938e-b3dc-4d3b-a2de-458c5ca0dceb",
   "metadata": {},
   "source": [
    "<span style=\"color:brown\"><b>Note: When data is missing or marked as “Unknown / Data Quality,” it’s rarely random — and in this context, it may be systematically biased toward longer, more complex appointments that are harder to capture or less likely to be recorded accurately </b></span>"
   ]
  },
  {
   "cell_type": "markdown",
   "id": "7667410e-8e78-4b11-9eb6-c2c6898cc24a",
   "metadata": {},
   "source": [
    ">**Unplanned or additional activity that the NHS cannot schedule in advance but can anticipate and resource for based on known demand patterns.**"
   ]
  },
  {
   "cell_type": "code",
   "execution_count": null,
   "id": "b65fa1a4-5587-49c8-909a-a1a8d72cdf0f",
   "metadata": {},
   "outputs": [],
   "source": [
    "nc_nat_cat_count = (nc.groupby('national_category')['count_of_appointments']\n",
    "                         .sum()\n",
    "                         .reset_index())\n",
    "nc_nat_cat_count.head()"
   ]
  },
  {
   "cell_type": "code",
   "execution_count": null,
   "id": "0c2280d4-2783-4162-851c-378b06f521bb",
   "metadata": {},
   "outputs": [],
   "source": [
    "# Create barplot\n",
    "# Assign million on axis\n",
    "nc_nat_cat_count['count_of_appointments_millions'] =nc_nat_cat_count['count_of_appointments'] / 1e6\n",
    "\n",
    "# Create blue gradient based on count\n",
    "# Sort data so smallest value gets lightest color, largest gets darkest\n",
    "nc_nat_cat_count = nc_nat_cat_count.sort_values('count_of_appointments_millions', ascending=True)\n",
    "\n",
    "# Create horizontal barplot with a gradient from light blue to your #005EB8\n",
    "palette = sns.light_palette(\"#005EB8\", n_colors=len(nc_nat_cat_count), reverse=False)\n",
    "\n",
    "# Create horizontal  barplot\n",
    "fig6, ax = plt.subplots(figsize=(12,10))\n",
    "sns.barplot(data=nc_nat_cat_count, x='count_of_appointments_millions', y='national_category', palette=palette)\n",
    "\n",
    "\n",
    "# Title & axis\n",
    "plt.title('Number of appointments by appointment type across the NHS', fontsize=18, pad=20)\n",
    "plt.xlabel('Number of Appointments ((millions)', fontsize=14)\n",
    "plt.ylabel('Appointment Type', fontsize=14)\n",
    "\n",
    "plt.show()"
   ]
  },
  {
   "cell_type": "markdown",
   "id": "0da3aa6e-b801-4500-9b1d-1374e8e8ec39",
   "metadata": {},
   "source": [
    "<span style=\"color:brown\"><b>Note: Find percentage unplanned including walk-ins </b></span>"
   ]
  },
  {
   "cell_type": "code",
   "execution_count": null,
   "id": "1e7c118b-ef3f-4a35-b169-b76368be4977",
   "metadata": {},
   "outputs": [],
   "source": [
    "# Identify fields that fit the 'unplanned' description\n",
    "nc_appointment_type_unplanned = ['Unplanned Clinical Activity', 'Walk-in']\n",
    "\n",
    "# Filter to keep only those rows\n",
    "unplanned_nc = nc[nc['national_category'].isin(nc_appointment_type_unplanned)]\n",
    "\n",
    "# Sum up the counts\n",
    "nc_appointment_type_unplanned_count = (unplanned_nc['count_of_appointments'].sum())\n",
    "\n",
    "# Percent unplanned \n",
    "percent_nc_appointment_type_unplanned = (nc_appointment_type_unplanned_count / nc_total_appt_count) * 100\n",
    "\n",
    "print(f\"The percentage of appointments that are unplanned activity e.g. urgent appointments, emergency visi or last-minute follow-up and also walk-ins is {percent_nc_appointment_type_unplanned}%\")"
   ]
  },
  {
   "cell_type": "markdown",
   "id": "63401f00-74a9-4be7-a277-a0f12c5ea3d4",
   "metadata": {},
   "source": [
    "<span style=\"color:purple\"><b>Insight: Only 1% of appointments are unplanned </b></span>"
   ]
  },
  {
   "cell_type": "code",
   "execution_count": null,
   "id": "eee6f46a-d498-47b4-867f-2e48707e42bd",
   "metadata": {},
   "outputs": [],
   "source": [
    "fig6.savefig('fig6_Number of appointments by appointment type across the NHS', dpi=300, bbox_inches='tight')"
   ]
  },
  {
   "cell_type": "markdown",
   "id": "f7d1684a-a3cc-4c5b-a8b6-9c27fe88431d",
   "metadata": {},
   "source": [
    ">**What service-setting experiences most walk-ins/unplanned activity?**"
   ]
  },
  {
   "cell_type": "code",
   "execution_count": null,
   "id": "26cfab33-566a-4407-ab8e-d719c69a05ab",
   "metadata": {},
   "outputs": [],
   "source": [
    "# Sum up the counts of unplanned by service setting\n",
    "nc_Service_setting_appointment_type_unplanned_count  = (unplanned_nc.groupby('service_setting')['count_of_appointments']\n",
    "                                                        .sum()\n",
    "                                                        .reset_index())\n",
    "\n",
    "print(nc_Service_setting_appointment_type_unplanned_count)\n",
    "\n",
    "# Assign million on axis\n",
    "nc_Service_setting_appointment_type_unplanned_count ['count_of_appointments_millions'] = (\n",
    "    nc_Service_setting_appointment_type_unplanned_count ['count_of_appointments'] / 1e6)\n",
    "\n",
    "# Create barplot\n",
    "fig7, ax = plt.subplots(figsize=(12,6))\n",
    "sns.barplot(data=nc_Service_setting_appointment_type_unplanned_count, x='service_setting', y='count_of_appointments_millions',\n",
    "            color='#005EB8')\n",
    "\n",
    "# Add labels on each bar\n",
    "for container in ax.containers:\n",
    "    ax.bar_label(container, fmt='%.1f', fontsize = 12, padding=3) \n",
    "\n",
    "# Title & axis\n",
    "plt.title('Number of unplanned appointments conducted in different service settings', fontsize=18, pad=20)\n",
    "plt.xlabel('Service Setting', fontsize=14)\n",
    "plt.ylabel('Number of Appointments (millions)', fontsize=14)\n",
    "\n",
    "plt.show()"
   ]
  },
  {
   "cell_type": "code",
   "execution_count": null,
   "id": "e1c0c691-e7d4-46ec-a4d7-57d8117bb9cf",
   "metadata": {},
   "outputs": [],
   "source": [
    "fig7.savefig('fig7_Number of unplanned appointments conducted in different service settings', dpi=300, bbox_inches='tight')"
   ]
  },
  {
   "cell_type": "markdown",
   "id": "1bfd7ef4-4a82-4d84-8c3f-a756c1694229",
   "metadata": {},
   "source": [
    ">**Determining if there is a relationship between appointment mode and attendance rate**"
   ]
  },
  {
   "cell_type": "code",
   "execution_count": null,
   "id": "bf6db1d6-6155-4e1f-a52d-f718902639c0",
   "metadata": {},
   "outputs": [],
   "source": [
    "ar_appt_mode_to_status = (ar.groupby(['appointment_mode', 'appointment_status'])['count_of_appointments']\n",
    "                          .sum()\n",
    "                          .reset_index(name='count'))\n",
    "\n",
    "print(ar_appt_mode_to_status.head())\n",
    "\n",
    "# Convert axis to millions\n",
    "ar_appt_mode_to_status['count_millions'] = ar_appt_mode_to_status['count'] /1e6\n",
    "\n",
    "# Show information in barplot\n",
    "fig_explore, ax = plt.subplots(figsize=(12,6))\n",
    "sns.barplot(data=ar_appt_mode_to_status, x='appointment_mode', y='count_millions',\n",
    "            hue='appointment_status', palette='Blues_r')\n",
    "\n",
    "# Title & axis\n",
    "plt.title('Relationship between appointment mode and attendance rate', fontsize=18, pad=20)\n",
    "plt.xlabel('Appointment Mode', fontsize=14)\n",
    "plt.ylabel('Number of Appointments', fontsize=14)\n",
    "\n",
    "plt.show()"
   ]
  },
  {
   "cell_type": "markdown",
   "id": "18302872-85f5-4753-b063-2248736ecb67",
   "metadata": {},
   "source": [
    "<span style=\"color:brown\"><b>Note: Let's show this in a better way </b></span>"
   ]
  },
  {
   "cell_type": "code",
   "execution_count": null,
   "id": "00c8af07-78f2-4991-b797-68bcb2cc2604",
   "metadata": {},
   "outputs": [],
   "source": [
    "# Copy data\n",
    "ar_appt_mode_to_status_2 = ar_appt_mode_to_status.copy()\n",
    "\n",
    "# Pivot so appointment_status become columns\n",
    "ar_appt_mode_to_status_pivot = ar_appt_mode_to_status_2.pivot(index='appointment_mode',\n",
    "                                                columns='appointment_status',\n",
    "                                                values='count')\n",
    "\n",
    "ar_appt_mode_to_status_pivot.head()"
   ]
  },
  {
   "cell_type": "code",
   "execution_count": null,
   "id": "96dcee7d-351a-47b2-bf41-c7046eb49f24",
   "metadata": {},
   "outputs": [],
   "source": [
    "# Convert counts to millions (optional)\n",
    "ar_appt_mode_to_status_pivot_millions = ar_appt_mode_to_status_pivot / 1e6\n",
    "\n",
    "# Show information in stacked barplot\n",
    "# Make sure blues used in bars\n",
    "cmap = plt.get_cmap('Blues')\n",
    "colors = [cmap(0.8), cmap(0.6), cmap(0.99)] \n",
    "\n",
    "fig12, ax = plt.subplots(figsize=(12,6))\n",
    "ar_appt_mode_to_status_pivot_millions.plot(kind='bar', stacked=True, ax=ax, color=colors)\n",
    "\n",
    "# Title & axis\n",
    "plt.title('Relationship between appointment mode and attendance rate', fontsize=18, pad=20)\n",
    "plt.xlabel('Appointment Mode', fontsize=14)\n",
    "plt.ylabel('Number of Appointments (million)', fontsize=14)\n",
    "plt.xticks(rotation=0)\n",
    "\n",
    "# Improve legend\n",
    "plt.legend(title = 'Appointment status')\n",
    "\n",
    "plt.show()"
   ]
  },
  {
   "cell_type": "markdown",
   "id": "e3b88d2a-0f8b-4c17-850f-5b72b9a3623d",
   "metadata": {},
   "source": [
    "<span style=\"color:brown\"><b>Note: Find percentage unattended in each appointment mode category </b></span>"
   ]
  },
  {
   "cell_type": "code",
   "execution_count": null,
   "id": "9303b477-ff18-47af-8f3e-2a75bbc683f5",
   "metadata": {},
   "outputs": [],
   "source": [
    "# Total Face-to-Face appointments\n",
    "total_face_to_face = ar_appt_mode_to_status_pivot.loc['Face-to-Face'].sum()\n",
    "\n",
    "# Count of unattended Face-to-Face appointments\n",
    "unattended_face_to_face = ar_appt_mode_to_status_pivot.loc['Face-to-Face', 'DNA']\n",
    "\n",
    "# Calculate percentage\n",
    "percent_unattended_face_to_face = (unattended_face_to_face / total_face_to_face) * 100\n",
    "\n",
    "print(f\"Percentage of unattended Face-to-Face appointments: {percent_unattended_face_to_face}%\")"
   ]
  },
  {
   "cell_type": "code",
   "execution_count": null,
   "id": "64342802-64c8-4fc1-b3f2-24ec54c74d72",
   "metadata": {},
   "outputs": [],
   "source": [
    "# Total telephone appointments\n",
    "total_telephone = ar_appt_mode_to_status_pivot.loc['Telephone'].sum()\n",
    "\n",
    "# Count of unattended telephone appointments\n",
    "unattended_telephone = ar_appt_mode_to_status_pivot.loc['Telephone', 'DNA']\n",
    "\n",
    "# Calculate percentage\n",
    "percent_unattended_telephone = (unattended_telephone / total_telephone) * 100\n",
    "\n",
    "print(f\"Percentage of unattended Telephone appointments: {percent_unattended_telephone}%\")"
   ]
  },
  {
   "cell_type": "markdown",
   "id": "b6cbe8cd-0fbb-4e4f-84f1-f1fd78fcba14",
   "metadata": {},
   "source": [
    "<span style=\"color:purple\"><b>Insight: Face-to-face appointments are more likely to be missed than telephone appointments. </b></span>"
   ]
  },
  {
   "cell_type": "code",
   "execution_count": null,
   "id": "73e04101-8027-4da1-a3ff-f23e66452535",
   "metadata": {},
   "outputs": [],
   "source": [
    "fig12.savefig('fig12_Relationship between appointment mode and attendance rate', dpi=300, bbox_inches='tight')"
   ]
  },
  {
   "cell_type": "markdown",
   "id": "049ff51a-f2cf-4e20-b572-346fb42ab839",
   "metadata": {},
   "source": [
    ">**Is there a relationship between patient attendance and the type of healthcare professional conducting the appointment?**"
   ]
  },
  {
   "cell_type": "code",
   "execution_count": null,
   "id": "8cbef837-2021-48d8-9b2b-2198af8da017",
   "metadata": {},
   "outputs": [],
   "source": [
    "# Group count by profession and status \n",
    "ar_appt_att_to_hcp = (ar.groupby(['hcp_type', 'appointment_status'])['count_of_appointments']\n",
    "                          .sum()\n",
    "                          .reset_index(name='count'))\n",
    "\n",
    "# Count in millions\n",
    "ar_appt_att_to_hcp['count_millions'] = ar_appt_att_to_hcp['count'] / 1e6\n",
    "\n",
    "# Show information in barplot\n",
    "# Use blue in bars\n",
    "colors = ['#005eb8','#1f77b4', '#B3D7E6']\n",
    "\n",
    "fig13, ax = plt.subplots(figsize=(12,6))\n",
    "sns.barplot(data=ar_appt_att_to_hcp, x='hcp_type', y='count_millions',\n",
    "            hue='appointment_status', palette=colors)\n",
    "\n",
    "# Title & axis\n",
    "plt.title('Appointments are more likely to be missed when the patient is not seeing a GP', fontsize=18, pad=20)\n",
    "plt.xlabel('Healthcare Professional', fontsize=14)\n",
    "plt.ylabel('Number of Appointments', fontsize=14)\n",
    "\n",
    "# Improve legend\n",
    "plt.legend(title = 'Appointment status')\n",
    "\n",
    "plt.show()"
   ]
  },
  {
   "cell_type": "code",
   "execution_count": null,
   "id": "2c0b1849-4457-48ec-ac8a-39e34edfa1c2",
   "metadata": {},
   "outputs": [],
   "source": [
    "fig13.savefig('fig13_Appointments are more likely to be missed when the patient is not seeing a GP', dpi=300, bbox_inches='tight')"
   ]
  },
  {
   "cell_type": "markdown",
   "id": "10379a1b-ff38-4b39-a61a-21ef82f406f4",
   "metadata": {},
   "source": [
    ">**Hospitals most common appointment duration cateogory?**"
   ]
  },
  {
   "cell_type": "code",
   "execution_count": null,
   "id": "4fb84e20-248f-49ef-ba4c-72cb0579eea0",
   "metadata": {},
   "outputs": [],
   "source": [
    "# Count how many times each duration appears per hospital\n",
    "mode_hosp_duration = (ad.groupby(['sub_icb_location_name', 'actual_duration'])['actual_duration']\n",
    "                      .count()\n",
    "                      .reset_index(name='count'))\n",
    "\n",
    "# Sort so the most common duration for each hospital is on top\n",
    "mode_hosp_duration = (mode_hosp_duration.sort_values(['sub_icb_location_name', 'count'], \n",
    "                                                     ascending=[True, False]))\n",
    "\n",
    "# Keep only the most common duration per hospital\n",
    "mode_hosp_duration = mode_hosp_duration.drop_duplicates(subset=['sub_icb_location_name'])\n",
    "\n",
    "# View output \n",
    "mode_hosp_duration.head()"
   ]
  },
  {
   "cell_type": "markdown",
   "id": "ad6157a3-88b0-4b20-9df3-28b6ec4c012a",
   "metadata": {},
   "source": [
    "<span style=\"color:brown\"><b>Note: Cannot show 106 rows of data, so group duration by count </b></span>"
   ]
  },
  {
   "cell_type": "code",
   "execution_count": null,
   "id": "528f214a-90ce-4024-aea7-9f7d3d1c45ad",
   "metadata": {},
   "outputs": [],
   "source": [
    "# Find most common appointnment duration in hospitals \n",
    "mode_hosp_duration_by_count_all = (mode_hosp_duration.groupby('actual_duration')['count']\n",
    "                               .count()\n",
    "                               .reset_index())\n",
    "\n",
    "# Show information in barplot\n",
    "fig10, ax = plt.subplots(figsize=(12,6))\n",
    "sns.barplot(data=mode_hosp_duration_by_count_all, x='actual_duration', y='count',\n",
    "            color='#005EB8')\n",
    "\n",
    "# Title & axis\n",
    "plt.title('At most Sub-ICB Locations, appointments are more likely to finish within that target 15 minutes', fontsize=18, pad=20)\n",
    "plt.xlabel('Appointment Duration', fontsize=14)\n",
    "plt.ylabel('Number of Sub-ICB Locations', fontsize=14)\n",
    "plt.xticks(rotation=30)\n",
    "\n",
    "plt.show()"
   ]
  },
  {
   "cell_type": "code",
   "execution_count": null,
   "id": "308adfab-7655-4946-acd5-e3a78295d3ef",
   "metadata": {},
   "outputs": [],
   "source": [
    "fig10.savefig('fig10_At most Sub-ICB Locations, appointments are more likely to finish within that target 15 minutes', dpi=300, bbox_inches='tight')"
   ]
  },
  {
   "cell_type": "markdown",
   "id": "16b63496-284f-4483-a0cb-cd05e2d2fed0",
   "metadata": {},
   "source": [
    "<span style=\"color:brown\"><b>Note: Using unknown data isn't really helping understand what we do know, so use known data counts to give us informed and credible insights </b></span>"
   ]
  },
  {
   "cell_type": "code",
   "execution_count": null,
   "id": "682329f8-d733-4927-8144-e496c2d05c09",
   "metadata": {},
   "outputs": [],
   "source": [
    "# Define known data in appointment durations\n",
    "durations_order = ['1-5 Minutes','6-10 Minutes','11-15 Minutes','16-20 Minutes','21-30 Minutes','31-60 Minutes']\n",
    "\n",
    "# Filter only known durations\n",
    "mode_hosp_duration_clean = mode_hosp_duration[mode_hosp_duration['actual_duration'].isin(durations_order)]\n",
    "\n",
    "# Count number of hospitals per most popular duration\n",
    "mode_hosp_duration_by_count_known = (mode_hosp_duration_clean.groupby('actual_duration')['count']\n",
    "                                     .count()\n",
    "                                     .reset_index())\n",
    "\n",
    "# Remove unknown data\n",
    "mode_hosp_duration_by_count_known = mode_hosp_duration_by_count_known[\n",
    "    mode_hosp_duration_by_count_known['actual_duration'] != 'Unknown / Data Quality']\n",
    "\n",
    "# View output\n",
    "mode_hosp_duration_by_count_known"
   ]
  },
  {
   "cell_type": "code",
   "execution_count": null,
   "id": "1618486b-529b-429c-b226-fff4aa6909cc",
   "metadata": {},
   "outputs": [],
   "source": [
    "# Show information in barplot\n",
    "fig_explore, ax = plt.subplots(figsize=(12,6))\n",
    "sns.barplot(data=mode_hosp_duration_by_count_known, x='actual_duration', y='count', order=durations_order,\n",
    "            color='#005EB8')\n",
    "\n",
    "# Title & axis\n",
    "plt.title('At most hospitals, appointments are more likely to finish within that target 15 minutes', fontsize=18, pad=20)\n",
    "plt.xlabel('Appointment Duration', fontsize=14)\n",
    "plt.ylabel('Number of Hospitals', fontsize=14)\n",
    "plt.xticks(rotation=30)\n",
    "\n",
    "plt.show()"
   ]
  },
  {
   "cell_type": "markdown",
   "id": "e57d7f7b-48c8-4ddb-8f97-f6a063f50a12",
   "metadata": {},
   "source": [
    ">**What hospitals/areas are underperforming or being stretched?**"
   ]
  },
  {
   "cell_type": "code",
   "execution_count": null,
   "id": "3c5586d8-222d-4247-83c5-0a646d2e1137",
   "metadata": {},
   "outputs": [],
   "source": [
    "# Which hospitals (areas) overrun recommended targets\n",
    "# Define above targets\n",
    "above_targets = ['16-20 Minutes', '21-30 Minutes']\n",
    "\n",
    "# Filter rows that exceed the targets\n",
    "over_target = mode_hosp_duration[mode_hosp_duration['actual_duration'].isin(above_targets)]\n",
    "\n",
    "# View output\n",
    "over_target"
   ]
  },
  {
   "cell_type": "markdown",
   "id": "dfbaffc5-f400-40d0-9239-6a0e7078a3a4",
   "metadata": {},
   "source": [
    ">**Top 10 hospitals with highest unplanned/walk-in activity**"
   ]
  },
  {
   "cell_type": "code",
   "execution_count": null,
   "id": "fc57f41d-8fef-4166-a8bd-93c088b10341",
   "metadata": {},
   "outputs": [],
   "source": [
    "# Create subtable with only unplanned/walk-in activity\n",
    "nat_cat_unplanned_walk_only = nc[nc['national_category'].isin(nc_appointment_type_unplanned)]\n",
    "\n",
    "# Order hospitals by highest count of specified activity - showing top 10\n",
    "nat_cat_unplanned_walk_only_hopsitals = (nat_cat_unplanned_walk_only.groupby('sub_icb_location_name')['count_of_appointments']\n",
    "                                         .sum()\n",
    "                                         .reset_index()\n",
    "                                         .sort_values('count_of_appointments', ascending=False)\n",
    "                                         .head(10))\n",
    "nat_cat_unplanned_walk_only_hopsitals"
   ]
  },
  {
   "cell_type": "markdown",
   "id": "2ccd21fa-6a66-4f1e-adff-f0289f282718",
   "metadata": {},
   "source": [
    "<span style=\"color:purple\"><b>Insight: NHS North West London ICB - W2U3Z is by far the most in demand hospital for unplanned/walk-in activity </b></span>"
   ]
  },
  {
   "cell_type": "code",
   "execution_count": null,
   "id": "b35ff30f-f131-48f5-b57b-ad473bd99312",
   "metadata": {},
   "outputs": [],
   "source": [
    "# Order hospitals by highest count of specified activity - showing top 10\n",
    "nat_cat_unplanned_walk_only_hopsitals_lowest = (nat_cat_unplanned_walk_only.groupby('sub_icb_location_name')['count_of_appointments']\n",
    "                                         .sum()\n",
    "                                         .reset_index()\n",
    "                                         .sort_values('count_of_appointments', ascending=False)\n",
    "                                         .tail(10))\n",
    "nat_cat_unplanned_walk_only_hopsitals_lowest"
   ]
  },
  {
   "cell_type": "markdown",
   "id": "0e79a1cd-54f2-4e4e-869d-3341fc98e4f6",
   "metadata": {},
   "source": [
    "<span style=\"color:purple\"><b>Insight: Northern UK hospitals experience least demand in unplanned/walk-in activity </b></span>"
   ]
  },
  {
   "cell_type": "markdown",
   "id": "56fb45b7-2f88-4167-b63d-776732fc17e1",
   "metadata": {},
   "source": [
    ">**Average appointment time by month**"
   ]
  },
  {
   "cell_type": "code",
   "execution_count": null,
   "id": "64db107a-524f-4776-8d5d-4fe282f3e58a",
   "metadata": {},
   "outputs": [],
   "source": [
    "appointment_time_midpoints = {\n",
    "    '1-5 Minutes': 3,\n",
    "    '6-10 Minutes': 8,\n",
    "    '11-15 Minutes': 13,\n",
    "    '16-20 Minutes': 18,\n",
    "    '21-30 Minutes': 25.5,\n",
    "    '31-60 Minutes': 45.5}\n",
    "\n",
    "# Create copy of ad DataFrame for new calculations \n",
    "ad_copy = ad.copy()\n",
    "\n",
    "# Map midpoint values\n",
    "ad_copy['appointment_time_midpoints'] = ad_copy['actual_duration'].map(appointment_time_midpoints)\n",
    "\n",
    "# Extract month\n",
    "ad_copy['appointment_month'] = pd.to_datetime(ad_copy['appointment_date']).dt.to_period('M')\n",
    "\n",
    "# Count appointments per month\n",
    "appointment_time_count_month = (ad_copy.groupby('appointment_month')['appointment_time_midpoints']\n",
    "                                .count()\n",
    "                                .reset_index()\n",
    "                                .rename(columns={'appointment_time_midpoints': 'appointment_count'}))\n",
    "\n",
    "# Sum of appointment times per month\n",
    "appointment_time_month_sum = (ad_copy.groupby('appointment_month')['appointment_time_midpoints']\n",
    "                              .sum()\n",
    "                              .reset_index()\n",
    "                              .rename(columns={'appointment_time_midpoints': 'appointment_time_sum'}))\n",
    "\n",
    "# Merge count and sum\n",
    "appointment_time_month_sum = appointment_time_month_sum.merge(\n",
    "    appointment_time_count_month, on='appointment_month')\n",
    "\n",
    "# Compute average\n",
    "appointment_time_month_sum['average_appointment_time'] = (\n",
    "    appointment_time_month_sum['appointment_time_sum'] / appointment_time_month_sum['appointment_count'])\n",
    "\n",
    "print(appointment_time_month_sum.head())\n",
    "print(appointment_time_month_sum.dtypes)"
   ]
  },
  {
   "cell_type": "code",
   "execution_count": null,
   "id": "fe3780b9-d125-4bd2-be00-2d02f069602b",
   "metadata": {},
   "outputs": [],
   "source": [
    "# Convert appointment_month to datetime for lineplot\n",
    "appointment_time_month_sum['appointment_month'] = appointment_time_month_sum['appointment_month'].dt.to_timestamp()\n",
    "\n",
    "# Show information in barplot\n",
    "fig8, ax = plt.subplots(figsize=(12,6))\n",
    "sns.lineplot(data=appointment_time_month_sum, x='appointment_month', y='average_appointment_time',\n",
    "            palette='#005EB8')\n",
    "\n",
    "# Title & axis\n",
    "plt.title('Appointment times increase in Winter periods and decrease as we approach Summer', fontsize=18, pad=20)\n",
    "plt.xlabel('Month', fontsize=14)\n",
    "plt.ylabel('Average Appointment Time (mins)', fontsize=14)\n",
    "plt.xticks(rotation=30)\n",
    "\n",
    "plt.show()"
   ]
  },
  {
   "cell_type": "code",
   "execution_count": null,
   "id": "71e9b8b0-f3f0-40ae-8ab6-f523d40472eb",
   "metadata": {},
   "outputs": [],
   "source": [
    "fig8.savefig('fig8_Appointment times increase in Winter periods and decrease as we approach Summer', dpi=300, bbox_inches='tight')"
   ]
  },
  {
   "cell_type": "markdown",
   "id": "ad4402df-0713-4440-a10f-34ff6a90e3ee",
   "metadata": {},
   "source": [
    ">**Average appointment times for best and worst performing hospitals**"
   ]
  },
  {
   "cell_type": "code",
   "execution_count": null,
   "id": "59915783-155a-4ca3-9b50-26860801f1d9",
   "metadata": {},
   "outputs": [],
   "source": [
    "# Calculate average appointment time per hospital per month\n",
    "appointment_avg_by_hospital = (ad_copy.groupby(['sub_icb_location_name', 'appointment_month'])['appointment_time_midpoints']\n",
    "                               .mean()\n",
    "                               .reset_index()\n",
    "                               .rename(columns={'appointment_time_midpoints': 'average_appointment_time'})\n",
    "                               .sort_values(by=['sub_icb_location_name', 'appointment_month'], ascending=True))\n",
    "\n",
    "appointment_avg_by_hospital.dtypes\n",
    "\n",
    "# Convert Period to timestamp (for plotting)\n",
    "appointment_avg_by_hospital['appointment_month'] = appointment_avg_by_hospital['appointment_month'].dt.to_timestamp()\n",
    "\n",
    "# Display result\n",
    "print(appointment_avg_by_hospital.head())\n",
    "\n",
    "# Identify highest and lowest\n",
    "highest_hospital = appointment_avg_by_hospital.iloc[0]['sub_icb_location_name']\n",
    "lowest_hospital = appointment_avg_by_hospital .iloc[-1]['sub_icb_location_name']\n",
    "\n",
    "print(\"Highest:\", highest_hospital)\n",
    "print(\"Lowest:\", lowest_hospital)"
   ]
  },
  {
   "cell_type": "markdown",
   "id": "6b7ff83d-d026-4468-a33b-4f16a12c220c",
   "metadata": {},
   "source": [
    ">**Comparing hospitals in London and their appointment times**"
   ]
  },
  {
   "cell_type": "code",
   "execution_count": null,
   "id": "11834397-ee76-4ff7-9e68-cce041d33411",
   "metadata": {},
   "outputs": [],
   "source": [
    "#Identify locations in London\n",
    "appointment_avg_by_hospital_london = appointment_avg_by_hospital[appointment_avg_by_hospital['sub_icb_location_name']\n",
    ".str.contains('London', case=False, na=False)]\n",
    "\n",
    "# Hospitals in London\n",
    "fig_explore, ax = plt.subplots(figsize=(12,6))\n",
    "sns.lineplot(\n",
    "    data=appointment_avg_by_hospital_london,\n",
    "    x='appointment_month',\n",
    "    y='average_appointment_time',\n",
    "    hue='sub_icb_location_name',\n",
    "    palette='Dark2')"
   ]
  },
  {
   "cell_type": "markdown",
   "id": "bcd97cd4-014a-499e-9300-c5869ae46360",
   "metadata": {},
   "source": [
    "<span style=\"color:brown\"><b>Note: Hard to read and shows incomplete data - not a usable graph </b></span>"
   ]
  },
  {
   "cell_type": "markdown",
   "id": "7c2882ba-ebd9-495e-b7a1-6232c78e59d8",
   "metadata": {},
   "source": [
    ">**Find what are the most popular national category i.e. context type for each service setting**"
   ]
  },
  {
   "cell_type": "markdown",
   "id": "159ab0b8-55d9-4f9b-ae90-108365261ec0",
   "metadata": {},
   "source": [
    "<span style=\"color:brown\"><b>Note: Understanding which types of appointments are managed by each service role helps reveal patterns in demand and clinical expertise. These insights can inform decisions on workforce planning and resource allocation. </b></span>"
   ]
  },
  {
   "cell_type": "code",
   "execution_count": null,
   "id": "7014c68c-f190-4765-ba1f-acc5ff2d1186",
   "metadata": {},
   "outputs": [],
   "source": [
    "# Define service_settings to include - removing unmapped and inconsistent mapping\n",
    "valid_national_categories = ['Care Home Needs Assessment & Personalised Care and Support Planning',\n",
    "                             'Care Home Visit',\n",
    "                             'Clinical Triage',\n",
    "                             'General Consultation Acute',\n",
    "                             'General Consultation Routine',\n",
    "                             'Group Consultation and Group Education',\n",
    "                             'Home Visit',\n",
    "                             'Non-contractual chargeable work',\n",
    "                             'Patient contact during Care Home Round',\n",
    "                             'Planned Clinical Procedure',\n",
    "                             'Planned Clinics',\n",
    "                             'Service provided by organisation external to the practice',\n",
    "                             'Social Prescribing Service',\n",
    "                             'Structured Medication Review',\n",
    "                             'Unplanned Clinical Activity',\n",
    "                             'Walk-in']\n",
    "\n",
    "# Filter the DataFrame to include only valid service settings\n",
    "nc_valid_national_categories = nc[nc['national_category'].isin(valid_national_categories)]\n",
    "\n",
    "# Extract relevant information\n",
    "nat_cat_demand_service_setting = (nc_valid_national_categories.groupby(['service_setting', 'national_category'])['count_of_appointments']\n",
    "                                  .sum()\n",
    "                                  .reset_index()\n",
    "                                  .sort_values(by=['service_setting', 'count_of_appointments'], ascending=True))\n",
    "\n",
    "nat_cat_demand_service_setting.head()\n"
   ]
  },
  {
   "cell_type": "code",
   "execution_count": null,
   "id": "d4c2e544-a508-429a-888a-ee55e99a696f",
   "metadata": {},
   "outputs": [],
   "source": [
    "# Split data per service_setting  \n",
    "nat_cat_demand_service_setting_EAP = nat_cat_demand_service_setting[\n",
    "    nat_cat_demand_service_setting['service_setting'] == 'Extended Access Provision']\n",
    "\n",
    "nat_cat_demand_service_setting_GP = nat_cat_demand_service_setting[\n",
    "    nat_cat_demand_service_setting['service_setting'] == 'General Practice']\n",
    "\n",
    "nat_cat_demand_service_setting_other = nat_cat_demand_service_setting[\n",
    "    nat_cat_demand_service_setting['service_setting'] == 'Other']\n",
    "\n",
    "nat_cat_demand_service_setting_pck = nat_cat_demand_service_setting[\n",
    "    nat_cat_demand_service_setting['service_setting'] == 'Primary Care Network']\n",
    "\n",
    "# Identify highest and lowest for each service setting\n",
    "highest_EAP = nat_cat_demand_service_setting_EAP.iloc[0]['national_category'] \n",
    "lowest_EAP = nat_cat_demand_service_setting_EAP.iloc[-1]['national_category']\n",
    "\n",
    "print(\"Most common appointment category for Extended Access Provision:\", highest_EAP)\n",
    "print(\"Least common appointment category for Extended Access Provision:\", lowest_EAP)\n",
    "\n",
    "highest_GP = nat_cat_demand_service_setting_GP.iloc[0]['national_category'] \n",
    "lowest_GP = nat_cat_demand_service_setting_GP.iloc[-1]['national_category']\n",
    "\n",
    "print(\"Most common appointment category for General Practice:\", highest_GP)\n",
    "print(\"Least common appointment category for General Practice:\", lowest_GP)\n",
    "\n",
    "highest_other = nat_cat_demand_service_setting_other.iloc[0]['national_category'] \n",
    "lowest_other = nat_cat_demand_service_setting_other.iloc[-1]['national_category']\n",
    "\n",
    "print(\"Most common appointment category for General Practice:\", highest_other)\n",
    "print(\"Least common appointment category for General Practice:\", lowest_other)\n",
    "\n",
    "highest_pck = nat_cat_demand_service_setting_pck.iloc[0]['national_category'] \n",
    "lowest_pck = nat_cat_demand_service_setting_pck.iloc[-1]['national_category']\n",
    "\n",
    "print(\"Most common appointment category for General Practice:\", highest_other)\n",
    "print(\"Least common appointment category for General Practice:\", lowest_other)"
   ]
  },
  {
   "cell_type": "markdown",
   "id": "f61aafd5-d7a4-47b9-aaca-cdaddd59744a",
   "metadata": {},
   "source": [
    "<span style=\"color:purple\"><b>Insight, or lack of: All service setting groups show same top and bottom appointment categories so this doesn't show much </b></span>"
   ]
  },
  {
   "cell_type": "code",
   "execution_count": null,
   "id": "9de1ec4f-95e7-4b46-af55-3e7142cdb122",
   "metadata": {},
   "outputs": [],
   "source": [
    "# Extended Access Provision (EAP)\n",
    "top3_EAP = nat_cat_demand_service_setting_EAP.head(3)['national_category'].tolist()\n",
    "bottom3_EAP = nat_cat_demand_service_setting_EAP.tail(3)['national_category'].tolist()\n",
    "\n",
    "print(\"EAP\")\n",
    "print(\"Top 3:\", top3_EAP)\n",
    "print(\"Bottom 3:\", bottom3_EAP)\n",
    "\n",
    "# General Practice (GP)\n",
    "top3_GP = nat_cat_demand_service_setting_GP.head(3)['national_category'].tolist()\n",
    "bottom3_GP = nat_cat_demand_service_setting_GP.tail(3)['national_category'].tolist()\n",
    "\n",
    "print(\"Top 3 appointment categories for General Practice:\", top3_GP)\n",
    "print(\"Bottom 3 appointment categories for General Practice:\", bottom3_GP)\n",
    "\n",
    "# Other\n",
    "top3_other = nat_cat_demand_service_setting_other.head(3)['national_category'].tolist()\n",
    "bottom3_other = nat_cat_demand_service_setting_other.tail(3)['national_category'].tolist()\n",
    "\n",
    "print(\"Top 3 appointment categories for Other:\", top3_other)\n",
    "print(\"Bottom 3 appointment categories for Other:\", bottom3_other)\n",
    "\n",
    "# PCK\n",
    "top3_pck = nat_cat_demand_service_setting_pck.head(3)['national_category'].tolist()\n",
    "bottom3_pck = nat_cat_demand_service_setting_pck.tail(3)['national_category'].tolist()\n",
    "\n",
    "print(\"Top 3 appointment categories for PCK:\", top3_pck)\n",
    "print(\"Bottom 3 appointment categories for PCK:\", bottom3_pck)"
   ]
  },
  {
   "cell_type": "markdown",
   "id": "58b6a90a-0a5f-4991-937c-57cb1d19a520",
   "metadata": {},
   "source": [
    "<span style=\"color:brown\"><b>Note: Unsure of how to write script to plot this information, therefore create a table to show top 3 and bottom 3 </b></span>"
   ]
  },
  {
   "cell_type": "code",
   "execution_count": null,
   "id": "6395453f-d121-4133-911b-bf6c28e48064",
   "metadata": {},
   "outputs": [],
   "source": [
    "# Top 3 in a table\n",
    "top3_dict = {\n",
    "    'EAP': ['Group Consultation and Group Education', 'Non-contractual chargeable work', 'Care Home Needs Assessment & Personalised Care and Support Planning'],\n",
    "    'General Practice': ['Group Consultation and Group Education', 'Non-contractual chargeable work', 'Social Prescribing Service'],\n",
    "    'Other': ['Group Consultation and Group Education', 'Social Prescribing Service', 'Care Home Needs Assessment & Personalised Care and Support Planning'],\n",
    "    'PCK': ['Group Consultation and Group Education', 'Non-contractual chargeable work', 'Walk-in']}\n",
    "\n",
    "# Convert to DataFrame\n",
    "top3_df = pd.DataFrame(top3_dict)\n",
    "\n",
    "top3_df.head()"
   ]
  },
  {
   "cell_type": "code",
   "execution_count": null,
   "id": "c1b3b9fd-977c-4be4-aaa5-c93833bcb4cd",
   "metadata": {},
   "outputs": [],
   "source": [
    "# Bottom 3 in a table\n",
    "bottom3_dict = {\n",
    "    'EAP': ['Clinical Triage', 'General Consultation Routine', 'General Consultation Acute'],\n",
    "    'General Practice': ['Clinical Triage', 'General Consultation Acute', 'General Consultation Routine'],\n",
    "    'Other': ['Clinical Triage', 'General Consultation Acute', 'General Consultation Routine'],\n",
    "    'PCK': ['General Consultation Acute', 'Planned Clinics', 'General Consultation Routine']}\n",
    "\n",
    "# Convert to DataFrame\n",
    "bottom3_df = pd.DataFrame(bottom3_dict)\n",
    "\n",
    "# Display the DataFrame\n",
    "bottom3_df.head()"
   ]
  },
  {
   "cell_type": "markdown",
   "id": "55cd60e7-7474-4f04-a26e-30075480a93e",
   "metadata": {},
   "source": [
    "<span style=\"color:purple\"><b>Insight: Overall, the pattern suggests that  service settings handle broadly similar types of appointments, with small meaningful variations in activity mix. The same types of appointments are proving to be the most in demand ones across the board. </b></span>"
   ]
  },
  {
   "cell_type": "markdown",
   "id": "1c61b866-446d-470a-999b-afbf9b31f193",
   "metadata": {},
   "source": [
    ">**Relationship between time to be seen from appointment and appointment time**"
   ]
  },
  {
   "cell_type": "markdown",
   "id": "98529db6-b02e-4827-aae1-4ab9942ebe8c",
   "metadata": {},
   "source": [
    "# This is a problem area - i am mapping straight into ar datafram and i shouldn't create a copy first"
   ]
  },
  {
   "cell_type": "code",
   "execution_count": null,
   "id": "2ab6f849-3162-443d-8500-44195c844533",
   "metadata": {},
   "outputs": [],
   "source": [
    "# Define book to appt time midpoint\n",
    "time_between_book_and_appointment_midpoint = {'Same Day': 0, '1 Day': 1, '2 to 7 Days': 4.5,\n",
    "                                              '8  to 14 Days': 11, '15  to 21 Days': 18,\n",
    "                                              '22  to 28 Days': 25, 'More than 28 Days': 29}\n",
    "\n",
    "# appointment_time_midpoints and ad_copy already defined/created\n",
    "\n",
    "# Manke copy of ar dataset to add new calculation columns to table\n",
    "ar_copy = ar.copy()\n",
    "\n",
    "# Map midpoints into DataFrames\n",
    "ar_copy['time_to_be_seen_mid'] = ar['time_between_book_and_appointment'].map(time_between_book_and_appointment_midpoint)\n",
    "ad_copy['appointment_duration_mid'] = ad['actual_duration'].map(appointment_time_midpoints)\n",
    "\n",
    "\n",
    "# Extract month from ad's appointment_date' as Timestamp (having checked datetime attribute\n",
    "ad_copy['appointment_month'] = ad_copy['appointment_date'].dt.to_period('M').dt.to_timestamp()\n",
    "\n",
    "# weighted average of appointment_duration_mid by count_of_appointments\n",
    "# Multiply duration midpoint by count to get total minutes\n",
    "ad_copy['duration_weighted'] = ad_copy['appointment_duration_mid'] * ad_copy['count_of_appointments']\n",
    "\n",
    "# Group by ICB and month, summing totals\n",
    "ad_monthly = ad_copy.groupby(['icb_ons_code', 'appointment_month'], as_index=False).agg({'duration_weighted': 'sum',\n",
    "                                                                                    'count_of_appointments': 'sum'})\n",
    "\n",
    "# Ahead of merge with ar DataFrame, make appointment_month same datatype (period[M])\n",
    "ad_monthly['appointment_month'] = ad_monthly['appointment_month'].dt.to_period('M')\n",
    "\n",
    "#View dataset\n",
    "print(ad_monthly.dtypes)\n",
    "ad_monthly.head()"
   ]
  },
  {
   "cell_type": "code",
   "execution_count": null,
   "id": "4b738677-97c5-40ac-9694-29ed469bf0b6",
   "metadata": {},
   "outputs": [],
   "source": [
    "# Compute the weighted average duration per ICB-month\n",
    "ad_monthly['appointment_duration_mid'] = (\n",
    "    ad_monthly['duration_weighted'] / ad_monthly['count_of_appointments'])\n",
    "\n",
    "# Drop helper column\n",
    "ad_monthly = ad_monthly.drop(columns=['duration_weighted'])\n",
    "\n",
    "# Merge the two DataFrames\n",
    "arad_book_appt_duration_relation = ar_copy.merge(\n",
    "    ad_monthly,\n",
    "    on=['icb_ons_code', 'appointment_month'],\n",
    "    how='inner')\n",
    "\n",
    "# --- Check result ---\n",
    "print(arad_book_appt_duration_relation.head())\n",
    "print(arad_book_appt_duration_relation.shape)\n",
    "\n",
    "arad_book_appt_duration_relation.head()"
   ]
  },
  {
   "cell_type": "code",
   "execution_count": null,
   "id": "613f4a31-4951-4136-9d30-a7ec5eaa573f",
   "metadata": {},
   "outputs": [],
   "source": [
    "# Filter out the 'Unknown' HCP type\n",
    "hcp_arad_book_appt_duration_relation = arad_book_appt_duration_relation[arad_book_appt_duration_relation['hcp_type'] != 'Unknown']\n",
    "\n",
    "# Get unique remaining HCP types\n",
    "hcp_types = hcp_arad_book_appt_duration_relation['hcp_type'].unique()\n",
    "\n",
    "# Create one scatter plot per HCP type\n",
    "fig14, axes = plt.subplots(1, len(hcp_types), figsize=(12, 6), sharey=True)\n",
    "\n",
    "for ax, hcp in zip(axes, hcp_types):\n",
    "    subset = hcp_arad_book_appt_duration_relation[hcp_arad_book_appt_duration_relation['hcp_type'] == hcp]\n",
    "\n",
    "    # Choose colour based on HCP type\n",
    "    if hcp == 'GP':\n",
    "        color = '#005eb8'\n",
    "    elif hcp == 'Other Practice staff':\n",
    "        color = '#B3D7E6'\n",
    "\n",
    "    # Create scatter plot\n",
    "    scatplot = ax.scatter(\n",
    "        subset['time_to_be_seen_mid'],\n",
    "        subset['appointment_duration_mid'],\n",
    "        s=subset['count_of_appointments_x'] / 50,marker='o',\n",
    "        alpha=0.7, color=color, label=hcp)\n",
    "\n",
    "    # Titles and labels for each plot\n",
    "    ax.set_title(f\"HCP Type: {hcp}\", fontsize=14, pad=10)\n",
    "    ax.set_xlabel(\"Time to be seen (days)\", fontsize=12)\n",
    "    ax.set_ylabel(\"Appointment duration (mins)\", fontsize=12)\n",
    "    ax.grid(True)\n",
    "\n",
    "plt.show()"
   ]
  },
  {
   "cell_type": "code",
   "execution_count": null,
   "id": "5228164a-220c-4099-a5fb-d85d0bae7ad5",
   "metadata": {},
   "outputs": [],
   "source": [
    "fig14.savefig('fig14_Scatter_appointment duration and time to book relationship', dpi=300, bbox_inches='tight')"
   ]
  },
  {
   "cell_type": "markdown",
   "id": "d70b95c0",
   "metadata": {},
   "source": [
    "# "
   ]
  },
  {
   "cell_type": "markdown",
   "id": "d3513fd2",
   "metadata": {},
   "source": [
    "# Assignment activity 5"
   ]
  },
  {
   "cell_type": "markdown",
   "id": "347b2229",
   "metadata": {},
   "source": [
    "### Analyse tweets from Twitter with hashtags related to healthcare in the UK."
   ]
  },
  {
   "cell_type": "code",
   "execution_count": null,
   "id": "06bc19bb",
   "metadata": {},
   "outputs": [],
   "source": [
    "# Libraries and settings needed for analysis\n",
    "import pandas as pd\n",
    "import seaborn as sns\n",
    "\n",
    "# Set figure size.\n",
    "sns.set(rc={'figure.figsize':(15, 12)})\n",
    "\n",
    "# Set the plot style as white.\n",
    "sns.set_style('white')\n",
    "\n",
    "# Maximum column width to display\n",
    "pd.options.display.max_colwidth = 200"
   ]
  },
  {
   "cell_type": "code",
   "execution_count": null,
   "id": "558dec8e",
   "metadata": {},
   "outputs": [],
   "source": [
    "# Load the data set.\n",
    "tt = pd.read_csv('tweets.csv')\n",
    "\n",
    "# View the DataFrame.\n",
    "tt.head()"
   ]
  },
  {
   "cell_type": "code",
   "execution_count": null,
   "id": "28835c48-dd3b-48fd-bbde-653e44476099",
   "metadata": {},
   "outputs": [],
   "source": [
    "# Checking all data has accurately been read into Python\n",
    "print(tt.shape)\n",
    "print(tt.dtypes)"
   ]
  },
  {
   "cell_type": "code",
   "execution_count": null,
   "id": "b9592370",
   "metadata": {},
   "outputs": [],
   "source": [
    "# Explore the metadata.\n",
    "tt['tweet_metadata'][0]"
   ]
  },
  {
   "cell_type": "markdown",
   "id": "aed608e3-d745-46cb-b79d-926d58094b9b",
   "metadata": {},
   "source": [
    "<span style=\"color:brown\"><b>Note: The tweet metadata indicates that all tweets are in English. This may introduce bias, as the NHS workforce is international and non-English tweets are excluded, meaning the data may not fully represent the true range of opinions or perceptions. The tweets are also “recent”; however, it is unclear what time frame this covers, whether it includes only the past few days, the last three months or a longer period.  </b></span>"
   ]
  },
  {
   "cell_type": "code",
   "execution_count": null,
   "id": "6ef6b098-dea6-4a67-bf76-91e66345a298",
   "metadata": {},
   "outputs": [],
   "source": [
    "# Check for NaN values\n",
    "tt.isna().sum()"
   ]
  },
  {
   "cell_type": "markdown",
   "id": "b17ec489-b11f-471b-808a-c55aef66222d",
   "metadata": {},
   "source": [
    "<span style=\"color:brown\"><b>Note: Many tweets do not contain hashtags, and since including hashtags is not mandatory, these entries are still valid.  </b></span>"
   ]
  },
  {
   "cell_type": "code",
   "execution_count": null,
   "id": "e2fd27e3",
   "metadata": {},
   "outputs": [],
   "source": [
    "# Would it be useful to only look at retweeted and favourite tweet messages?\n",
    "# Explain your answer."
   ]
  },
  {
   "cell_type": "markdown",
   "id": "eeb8b5ab-0dc9-4ae5-97d9-bb5fd15555fd",
   "metadata": {},
   "source": [
    "- Retweets show what messages people chose to share,  this often means the tweet resonated with them or reflected their opinions.\n",
    "- Favorites (and likes) show tweets that people agreed with or appreciated, even if they didn’t share them.\n",
    "- So if you look only at tweets with high retweet or favorite counts, you can focus on the most influential or popular messages.\n",
    "\n",
    "But then...\n",
    "- The messages themselves usually contain much more detail, and limiting the analysis to only popular tweets introduces bias.\n",
    "- Most tweets (in this data) have few or no retweets or likes, so ignoring them means missing out on a wide range of opinions and smaller voices.\n",
    "\n",
    "While retweeted and favorited tweets can reveal what gains attention, analysing all tweets gives a more balanced and comprehensive understanding of shared perceptions and sentiment."
   ]
  },
  {
   "cell_type": "code",
   "execution_count": null,
   "id": "9dfcfd06",
   "metadata": {},
   "outputs": [],
   "source": [
    "# Explore the data set.\n",
    "print(tt['tweet_retweet_count'].sum())\n",
    "print(tt['tweet_favorite_count'].sum())"
   ]
  },
  {
   "cell_type": "markdown",
   "id": "0926e508-0806-4956-b75d-7f0a0ca0ce9b",
   "metadata": {},
   "source": [
    "<span style=\"color:purple\"><b>Insight: More tweets are reshared than favorited, suggesting an appetite for sharing information with peers and creating a collective community voice rather than just expressing a personal reaction. This may also reflect a desire to be seen engaging in popular or relevant discussions, and some tweets may be shared for visibility or debate rather than agreement.</b></span>"
   ]
  },
  {
   "cell_type": "code",
   "execution_count": null,
   "id": "2ab09c86-bcc2-4f65-88da-65946587bb5d",
   "metadata": {},
   "outputs": [],
   "source": [
    "# Checking boolean retweet and favorite columns reflect retweet/favorite count status\n",
    "print((tt['tweet_favorited'] == True).sum())\n",
    "print((tt['tweet_retweeted'] == True).sum())"
   ]
  },
  {
   "cell_type": "markdown",
   "id": "e492a1d9-07d3-4c08-81c2-9a3eab4660b8",
   "metadata": {},
   "source": [
    "<span style=\"color:brown\"><b>Note: The boolean columns (tweet_favorited, tweet_retweeted) don’t match the count columns. This may be because the data was collected without being logged in as the account owner, so the twitter API defaults these flags to false for privacy reasons. therefore, the count columns (tweet_retweet_count, tweet_favorite_count) are the reliable indicators of engagement, and the boolean columns will be ignored.  </b></span>"
   ]
  },
  {
   "cell_type": "code",
   "execution_count": null,
   "id": "bb667e2f",
   "metadata": {},
   "outputs": [],
   "source": [
    "# Create a new DataFrame containing only the text (and other relavant columns)\n",
    "tt_text = tt[[\"tweet_id\", \"tweet_full_text\", \"tweet_entities_hashtags\", \n",
    "              \"tweet_retweet_count\", \"tweet_favorite_count\"]].reset_index()\n",
    "\n",
    "# View the DataFrame.\n",
    "tt_text.head()"
   ]
  },
  {
   "cell_type": "code",
   "execution_count": null,
   "id": "ce3211b3",
   "metadata": {},
   "outputs": [],
   "source": [
    "# Loop through the messages, and create a list of values containing the # symbol.\n",
    "# Create an empty list to store hashtags\n",
    "hashtags = []\n",
    "\n",
    "# Loop through each row in the column\n",
    "for hashtag_text in tt_text ['tweet_entities_hashtags']:\n",
    "    # Only continue if the cell isn't empty\n",
    "    if pd.notna(hashtag_text):\n",
    "        # Split by comma as many have multiple hashtags\n",
    "        for tag in hashtag_text.split(','):\n",
    "            tag = tag.strip()  # remove spaces\n",
    "            if '#' in tag:\n",
    "                hashtags.append(tag)"
   ]
  },
  {
   "cell_type": "code",
   "execution_count": null,
   "id": "111ee38c",
   "metadata": {},
   "outputs": [],
   "source": [
    "# Display the first 30 records.\n",
    "print(hashtags[:30])"
   ]
  },
  {
   "cell_type": "code",
   "execution_count": null,
   "id": "3127ca56",
   "metadata": {},
   "outputs": [],
   "source": [
    "# Convert the series to a DataFrame in preparation for visualisation.\n",
    "hashtags_series = pd.Series(hashtags)\n",
    "\n",
    "# Count number each hashtag\n",
    "hashtag_counts = hashtags_series.value_counts().reset_index()\n",
    "hashtag_counts.columns = ['hashtag', 'count']  \n",
    "\n",
    "# Check dtypes and view output\n",
    "print(hashtag_counts.dtypes)\n",
    "\n",
    "# Display first few rows\n",
    "hashtag_counts.head()"
   ]
  },
  {
   "cell_type": "markdown",
   "id": "d9dd3f95-5398-4ebf-a8e9-82ec6236bc44",
   "metadata": {},
   "source": [
    "<span style=\"color:brown\"><b>Note: Consider the word itself, not its case. For example, 'healthcare' has appeared at least three times; when the word is the same, the meaning of the hashtag is the same.</b></span>"
   ]
  },
  {
   "cell_type": "code",
   "execution_count": null,
   "id": "12186d99-a731-4ad6-a2ee-60192c2542e1",
   "metadata": {},
   "outputs": [],
   "source": [
    "# Convert the series to a DataFrame in preparation for visualisation.\n",
    "hashtags_series = pd.Series(hashtags).str.lower()\n",
    "\n",
    "hashtag_counts = hashtags_series.value_counts().reset_index()\n",
    "hashtag_counts.columns = ['hashtag', 'count']  \n",
    "\n",
    "hashtag_counts.head()"
   ]
  },
  {
   "cell_type": "code",
   "execution_count": null,
   "id": "1e03f41a",
   "metadata": {},
   "outputs": [],
   "source": [
    "# Display records where the count is larger than 10.\n",
    "hashtags_count_above_10 = hashtag_counts[hashtag_counts['count'] > 10]\n",
    "\n",
    "# Create horiszontal barplot\n",
    "fig_explore, ax = plt.subplots(figsize=(12,10))\n",
    "sns.barplot(data=hashtags_count_above_10, x='count', y='hashtag', color = '#005EB8')\n",
    "\n",
    "plt.show()"
   ]
  },
  {
   "cell_type": "code",
   "execution_count": null,
   "id": "85d62a95-cfc2-46d4-8a9b-2a3f1697a0d9",
   "metadata": {},
   "outputs": [],
   "source": [
    "# Remove any overrepresented hashtags and create a seaborn barplot displaying the remaining most frequently used hashtags (#)\n",
    "hashtags_count_above_10_no_healthcare = hashtags_count_above_10[hashtags_count_above_10['hashtag'] != '#healthcare']\n",
    "\n",
    "# Create horizontal barplot\n",
    "fig18, ax = plt.subplots(figsize=(12,12))\n",
    "sns.barplot(data=hashtags_count_above_10_no_healthcare, x='count', y='hashtag', color = '#005EB8')\n",
    "\n",
    "# Title and labels\n",
    "plt.title('Most popular hashtags', fontsize=16, pad=20)\n",
    "plt.xlabel('Count', fontsize=14)\n",
    "plt.ylabel('Hashtag', fontsize=14)\n",
    "\n",
    "plt.show()"
   ]
  },
  {
   "cell_type": "code",
   "execution_count": null,
   "id": "deb872d1",
   "metadata": {},
   "outputs": [],
   "source": [
    "fig18.savefig('fig18_Most popular hashtag', dpi=300, bbox_inches='tight')"
   ]
  },
  {
   "cell_type": "markdown",
   "id": "f46e9e38-b89d-4e35-b3f8-a9c9a0b42d2e",
   "metadata": {},
   "source": [
    ">**Checking common feelings with key words seen in data**"
   ]
  },
  {
   "cell_type": "code",
   "execution_count": null,
   "id": "ff61323f-c50d-4a90-a8fb-4d70be2b9e21",
   "metadata": {},
   "outputs": [],
   "source": [
    "# Count tweets mentioning \"work life balance\" (case-insensitive)\n",
    "wlb_count = tt_text['tweet_full_text'].str.contains('work-life balance', case=False, na=False).sum()\n",
    "wlb_count"
   ]
  },
  {
   "cell_type": "code",
   "execution_count": null,
   "id": "9953fb2e-7353-4f29-ac70-3d751d3bd283",
   "metadata": {},
   "outputs": [],
   "source": [
    "# Count tweets mentioning hiring (promo)\n",
    "hiring_count = tt_text['tweet_full_text'].str.contains('hiring', case=False, na=False).sum()\n",
    "hiring_count"
   ]
  },
  {
   "cell_type": "code",
   "execution_count": null,
   "id": "68c30fa6-a79c-4e0d-8a20-7b4b0206756f",
   "metadata": {},
   "outputs": [],
   "source": [
    "# Count tweets mentioning public\n",
    "public_count = tt_text['tweet_full_text'].str.contains('public', case=False, na=False).sum()\n",
    "public_count"
   ]
  },
  {
   "cell_type": "code",
   "execution_count": null,
   "id": "d00e4bc3-4d10-43f7-a8cc-a0fa82c5dc48",
   "metadata": {},
   "outputs": [],
   "source": [
    "# Filter and display all tweets containing \"public\" (case-insensitive)\n",
    "tweets_with_public = tt_text[tt_text['tweet_full_text'].str.contains('public', case=False, na=False)]\n",
    "tweets_with_public.head()"
   ]
  },
  {
   "cell_type": "markdown",
   "id": "750919ce-f4d8-4167-8598-0e43e80e6243",
   "metadata": {},
   "source": [
    "<span style=\"color:purple\"><b>Insight: 'Public' is often used as a powerful term to highlight declining trust in public health and the need for its restoration </b></span>"
   ]
  },
  {
   "cell_type": "markdown",
   "id": "35350cc2-625e-4cca-ae29-ff13a36c5c9b",
   "metadata": {},
   "source": [
    ">**What tweets are most likely to be retweeted and favorites?**"
   ]
  },
  {
   "cell_type": "code",
   "execution_count": null,
   "id": "7174f163",
   "metadata": {},
   "outputs": [],
   "source": [
    "#  Split multiple hashtags into separate rows\n",
    "tt_text = tt_text.assign(Hashtag=tt_text['tweet_entities_hashtags'].str.split(',')).explode('Hashtag')\n",
    "\n",
    "# Clean hashtags \n",
    "tt_text['hashtag'] = tt_text['Hashtag'].str.strip().str.lower()\n",
    "\n",
    "# Aggregate total retweets and favorites by hashtag\n",
    "hashtag_stats = tt_text.groupby('hashtag').agg(\n",
    "    Total_Retweets=('tweet_retweet_count', 'sum'),\n",
    "    Total_Favorites=('tweet_favorite_count', 'sum'),\n",
    "    Tweet_Count=('tweet_id', 'count')).reset_index()\n",
    "\n",
    "hashtag_stats.head()"
   ]
  },
  {
   "cell_type": "code",
   "execution_count": null,
   "id": "c91862af-0a36-4f7d-9827-d6b1def755ae",
   "metadata": {},
   "outputs": [],
   "source": [
    "# Create horizontal barplot\n",
    "# Take top 10 most retweeted hashtags\n",
    "top10_retweeted = hashtag_stats.sort_values(by='Total_Retweets', ascending=False).head(10)\n",
    "\n",
    "# Create horizontal barplot\n",
    "fig19, ax = plt.subplots(figsize=(12,6))\n",
    "sns.barplot(data=top10_retweeted, x='Total_Retweets', y='hashtag', color='#005EB8')\n",
    "\n",
    "# Title and labels\n",
    "plt.title('Top 10 Most Retweeted Hashtags', fontsize=16, pad=20)\n",
    "plt.xlabel('Total Retweets', fontsize=14)\n",
    "plt.ylabel('Hashtag', fontsize=14)\n",
    "\n",
    "plt.show()"
   ]
  },
  {
   "cell_type": "code",
   "execution_count": null,
   "id": "502a3c1d-c935-4ea2-a267-1968a27adbd6",
   "metadata": {},
   "outputs": [],
   "source": [
    "fig19.savefig('fig19_Top 10 Most Retweeted Hashtags', dpi=300, bbox_inches='tight')"
   ]
  },
  {
   "cell_type": "code",
   "execution_count": null,
   "id": "538e7839-8f73-4110-ac24-4ba674876e96",
   "metadata": {},
   "outputs": [],
   "source": [
    "# Create horizontal barplot\n",
    "# Take top 10 most favorites hashtags\n",
    "top10_favorites= hashtag_stats.sort_values(by='Total_Favorites', ascending=False).head(10)\n",
    "\n",
    "# Create horizontal barplot\n",
    "fig_explore, ax = plt.subplots(figsize=(12,6))\n",
    "sns.barplot(data=top10_favorites, x='Total_Retweets', y='hashtag', color='#005EB8')\n",
    "\n",
    "# Title and labels\n",
    "plt.title('Top 10 Favorite Hashtags', fontsize=16, pad=20)\n",
    "plt.xlabel('Total Tweets', fontsize=14)\n",
    "plt.ylabel('Hashtag', fontsize=14)\n",
    "\n",
    "plt.show()"
   ]
  },
  {
   "cell_type": "markdown",
   "id": "5534d8ff",
   "metadata": {},
   "source": [
    "# "
   ]
  },
  {
   "cell_type": "markdown",
   "id": "c04eb259",
   "metadata": {},
   "source": [
    "# Assignment activity 6"
   ]
  },
  {
   "cell_type": "markdown",
   "id": "9579ccd5",
   "metadata": {},
   "source": [
    "### Make recommendations to the NHS. "
   ]
  },
  {
   "cell_type": "markdown",
   "id": "d6e4b4d8",
   "metadata": {},
   "source": [
    ">**Question 1:** Should the NHS start looking at increasing staff levels? "
   ]
  },
  {
   "cell_type": "markdown",
   "id": "f5fd1ec3-a9b6-439c-b3a4-1ad5c8bb27d2",
   "metadata": {},
   "source": [
    "<span style=\"color:brown\"><b>Note: Verifying three DataFrames to ensure data integrity, using shape to match rows and columns to original check in notebook </b></span>"
   ]
  },
  {
   "cell_type": "code",
   "execution_count": null,
   "id": "238f4439-3ed6-4587-901c-eb6f7dddfc79",
   "metadata": {},
   "outputs": [],
   "source": [
    "print(ad.shape)\n",
    "ad.head()"
   ]
  },
  {
   "cell_type": "code",
   "execution_count": null,
   "id": "9a467f5e-66a6-44e9-b28d-d816066a05d9",
   "metadata": {},
   "outputs": [],
   "source": [
    "print(ar.shape)\n",
    "ar.head()"
   ]
  },
  {
   "cell_type": "code",
   "execution_count": null,
   "id": "2514fbec-11f5-4d01-b6b2-a9358934c2bb",
   "metadata": {},
   "outputs": [],
   "source": [
    "print(nc.shape)\n",
    "nc.head()"
   ]
  },
  {
   "cell_type": "markdown",
   "id": "d0b00ab7-5b7f-4888-a246-dbf4f0cfa77c",
   "metadata": {},
   "source": [
    ">**Total appointments per sub-ICB per month**"
   ]
  },
  {
   "cell_type": "code",
   "execution_count": null,
   "id": "00805db8",
   "metadata": {},
   "outputs": [],
   "source": [
    "# Agg 1 is Total appointments per sub-ICB per month (from ad)\n",
    "# Collect days into month\n",
    "ad_copy['appointment_month'] = ad_copy['appointment_date'].dt.to_period('M')\n",
    "\n",
    "agg_sub_icb = (ad_copy.groupby(['sub_icb_location_code',  'sub_icb_location_name',  \n",
    "                           'appointment_month', 'actual_duration'])['count_of_appointments']\n",
    "               .sum()\n",
    "               .reset_index())\n",
    "\n",
    "agg_sub_icb.head()"
   ]
  },
  {
   "cell_type": "markdown",
   "id": "06b2d74f-9bf2-4af3-992f-e2f6dd9b8c4e",
   "metadata": {},
   "source": [
    "<span style=\"color:brown\"><b>Note: Find the hospitals that have the highest appointment counts </b></span>"
   ]
  },
  {
   "cell_type": "code",
   "execution_count": null,
   "id": "5329b466-200c-4e5d-8751-4127428ede2b",
   "metadata": {},
   "outputs": [],
   "source": [
    "agg_sub_icb_annual = (agg_sub_icb.groupby('sub_icb_location_name')['count_of_appointments']\n",
    "                      .sum().reset_index())\n",
    "\n",
    "# Sort the data by count_of_appointments (ascending or descending)\n",
    "agg_sub_icb_annual = agg_sub_icb_annual.sort_values('count_of_appointments', ascending=True)\n",
    "\n",
    "# Create horizontal barplot with a gradient from light blue to your #005EB8\n",
    "palette = sns.light_palette(\"#005EB8\", n_colors=len(agg_sub_icb_annual), reverse=False)\n",
    "\n",
    "fig_explore, ax = plt.subplots(figsize=(12,20))\n",
    "sns.barplot(data=agg_sub_icb_annual, x='count_of_appointments',\n",
    "             y='sub_icb_location_name', palette=palette)\n",
    "\n",
    "plt.show()  "
   ]
  },
  {
   "cell_type": "markdown",
   "id": "b5734bb8-6cba-4280-8a9b-9dc92f718c4a",
   "metadata": {},
   "source": [
    "<span style=\"color:brown\"><b>Note: Too large a graph - need to know top 10 and bottom 10 in demand hospitals </b></span>"
   ]
  },
  {
   "cell_type": "code",
   "execution_count": null,
   "id": "b3422556-3a90-4313-8cce-4cb0abb445a1",
   "metadata": {},
   "outputs": [],
   "source": [
    "# Aggregate and sort\n",
    "agg_sub_icb_annual_10 = (agg_sub_icb.groupby('sub_icb_location_name')['count_of_appointments']\n",
    "                         .sum()  \n",
    "                         .reset_index()\n",
    "                         .sort_values('count_of_appointments', ascending=True))\n",
    "\n",
    "# Select bottom 10 and top 10\n",
    "bottom10 = agg_sub_icb_annual_10.head(10)\n",
    "top10 = agg_sub_icb_annual_10.tail(10)\n",
    "\n",
    "# Combine bottom and top 10 into a table\n",
    "agg_sub_icb_annual_10_combined = pd.concat([bottom10, top10])\n",
    "\n",
    "# Keep sorted for display\n",
    "agg_sub_icb_annual_10_combined = agg_sub_icb_annual_10_combined.sort_values('count_of_appointments', ascending=True)\n",
    "\n",
    "# Count in million adjust\n",
    "agg_sub_icb_annual_10_combined['count_of_appointments_millions']=agg_sub_icb_annual_10_combined['count_of_appointments']/1e6\n",
    "\n",
    "# Plot\n",
    "fig9, ax = plt.subplots(figsize=(12, 10))\n",
    "sns.barplot(data=agg_sub_icb_annual_10_combined, x='count_of_appointments_millions', y='sub_icb_location_name', color='#005EB8')\n",
    "\n",
    "# Add dividing line between bottom 10 and top 10\n",
    "divider_y = 9.5  # halfway between 10th and 11th bar\n",
    "ax.axhline(divider_y, color='orange', linestyle='--')\n",
    "\n",
    "# Title and labels\n",
    "plt.title('Northern UK Locations experience fewer appointments compared to southern and London areas', fontsize=16, pad=20)\n",
    "plt.xlabel('Count of Appointments (million)', fontsize=14)\n",
    "plt.ylabel('Sub ICB Location', fontsize=14)\n",
    "\n",
    "plt.show()"
   ]
  },
  {
   "cell_type": "markdown",
   "id": "6d886408-5480-4389-a814-2ee22be2def0",
   "metadata": {},
   "source": [
    "<span style=\"color:purple\"><b>Insight: Appointment volumes are notably higher across London and surrounding areas, while northern regions of the UK show comparatively lower activity levels. </b></span>"
   ]
  },
  {
   "cell_type": "markdown",
   "id": "aaf719d5-3723-4365-b46b-5c599cd0ced6",
   "metadata": {},
   "source": [
    "The NHS has provided a figure of an average of 1,200,000 appointments per day being used for planning purposes, which you can use as a guideline for maximum capacity.“"
   ]
  },
  {
   "cell_type": "code",
   "execution_count": null,
   "id": "4f996c5d-64cf-459f-9f4a-1a008e73b41c",
   "metadata": {},
   "outputs": [],
   "source": [
    "fig9.savefig('fig9_Top 10 and bottom 10 Sub ICBs by appointment total', dpi=300, bbox_inches='tight')"
   ]
  },
  {
   "cell_type": "markdown",
   "id": "8c036c1f-3a81-423c-b623-bec5b3f93bf7",
   "metadata": {},
   "source": [
    ">**Assess how appointment volumes vary across hospitals and identify those showing signs of capacity strain or uneven utilisation.**"
   ]
  },
  {
   "cell_type": "code",
   "execution_count": null,
   "id": "da4336f1-8489-4971-8a2d-b6f001275561",
   "metadata": {},
   "outputs": [],
   "source": [
    "ad_date_count = (ad.groupby(['sub_icb_location_name', 'appointment_date'])['count_of_appointments']\n",
    "               .sum()\n",
    "               .reset_index())\n",
    "\n",
    "ad_date_count.head()"
   ]
  },
  {
   "cell_type": "markdown",
   "id": "6bc8b9de-4690-4ae7-a24b-de6352c404bd",
   "metadata": {},
   "source": [
    "<span style=\"color:brown\"><b>Note: 1.2 million/106 locations  will give average location expectations for appointment totals </b></span>"
   ]
  },
  {
   "cell_type": "code",
   "execution_count": null,
   "id": "996f3d4f-e7ae-4cd7-a210-fd99e5efff5f",
   "metadata": {},
   "outputs": [],
   "source": [
    "location_avg_exp = 1_200_000/106\n",
    "location_avg_exp"
   ]
  },
  {
   "cell_type": "code",
   "execution_count": null,
   "id": "4c431bbf-6131-42d3-ae3b-0ab6c1a1d82c",
   "metadata": {},
   "outputs": [],
   "source": [
    "# Create the boxplot\n",
    "fig_explore, ax = plt.subplots(figsize=(12, 25))\n",
    "sns.boxplot(\n",
    "    data=ad_date_count,\n",
    "    x='count_of_appointments',\n",
    "    y='sub_icb_location_name',\n",
    "    color='#005EB8',\n",
    "    fliersize=4,\n",
    "    linewidth=1.5)\n",
    "\n",
    "# Create vertical line\n",
    "ax.axvline(x=location_avg_exp, color='orange',  linestyle='--' )\n",
    "\n",
    "# Title and labels\n",
    "plt.title('Distribution of daily appointment counts by Sub-ICB Location', fontsize=16, pad=20)\n",
    "plt.xlabel('Count of Daily Appointments', fontsize=14)\n",
    "plt.ylabel('Sub-ICB Location', fontsize=14)\n",
    "\n",
    "plt.show()"
   ]
  },
  {
   "cell_type": "markdown",
   "id": "0ddd3629-8175-45a9-9171-da16ec5a5087",
   "metadata": {},
   "source": [
    "<span style=\"color:purple\"><b>Insight: High variability in some Sub-ICBs, possibly due to differences in hospital or practice sizes, indicates uneven daily appointment volumes, while others show more consistent workloads. </b></span>"
   ]
  },
  {
   "cell_type": "markdown",
   "id": "9e7ff641-f1b3-443e-832b-d15c4d644d9c",
   "metadata": {},
   "source": [
    "> **Total appointments per day - assess how often they exceed the 1.2 million appointments**"
   ]
  },
  {
   "cell_type": "code",
   "execution_count": null,
   "id": "73ee989c-2c6f-4999-8d30-35603ad88dae",
   "metadata": {},
   "outputs": [],
   "source": [
    "# Calcualte total appointments per day\n",
    "nc_daily_appt = (nc.groupby('appointment_date')['count_of_appointments']\n",
    "                 .sum()\n",
    "                 .reset_index())\n",
    "\n",
    "nc_daily_appt.head()"
   ]
  },
  {
   "cell_type": "code",
   "execution_count": null,
   "id": "7806bb62-154a-48b6-984c-c02282cb6282",
   "metadata": {},
   "outputs": [],
   "source": [
    "# Add a column for days above 1.2 million appointments\n",
    "nc_daily_appt['above_1_2_million'] = nc_daily_appt['count_of_appointments'] > 1_200_000\n",
    "\n",
    "# Count how many days exceed the 1.2 million target\n",
    "days_above_target = nc_daily_appt['above_1_2_million'].sum()\n",
    "\n",
    "# Optionally, you can also see what percentage of total days that is\n",
    "percentage_above_target = (days_above_target / len(nc_daily_appt)) * 100\n",
    "\n",
    "print(f\"Days above 1.2 million appointments: {days_above_target}\")\n",
    "print(f\"Percentage of total days: {percentage_above_target}%\")"
   ]
  },
  {
   "cell_type": "markdown",
   "id": "4b63744a-4bfc-4834-90a6-4f64791dee40",
   "metadata": {},
   "source": [
    "<span style=\"color:purple\"><b>Insight: More than 50% of days experience higher than expected NHS targets </b></span>"
   ]
  },
  {
   "cell_type": "code",
   "execution_count": null,
   "id": "8dfd957d-292b-498a-8f3f-7018c988a7dc",
   "metadata": {},
   "outputs": [],
   "source": [
    "# Create a line plot to see if data can be interpreted?\n",
    "fig_explore, ax = plt.subplots(figsize=(12,20))\n",
    "sns.lineplot(data=nc_daily_appt, x='appointment_date',\n",
    "             y='count_of_appointments', color='#005EB8')\n",
    "\n",
    "plt.show()  "
   ]
  },
  {
   "cell_type": "markdown",
   "id": "b24188a4-c58e-470b-9192-c19ca7c456f6",
   "metadata": {},
   "source": [
    "<span style=\"color:brown\"><b>Note: Unable to read graph so not useful - find another way to represent data </b></span>"
   ]
  },
  {
   "cell_type": "code",
   "execution_count": null,
   "id": "6d63cbc8-73ef-4c44-8f17-283984bc67dc",
   "metadata": {},
   "outputs": [],
   "source": [
    "# Set threshold\n",
    "threshold = 1_200_000\n",
    "\n",
    "# Create a new column with string categories\n",
    "nc_daily_appt['above_threshold'] = (\n",
    "    nc_daily_appt['count_of_appointments'] > threshold).map({True: 'Above 1.2M', False: 'Below 1.2M'})\n",
    "\n",
    "# Plot countplot\n",
    "fig16, ax = plt.subplots(figsize=(6, 6))\n",
    "sns.countplot(data=nc_daily_appt, x='above_threshold', palette='tab20c')\n",
    "\n",
    "# Title and labe;\n",
    "plt.title('Number of Days Above vs Below 1.2M Threshold', fontsize=14, pad=20)\n",
    "plt.xlabel('Threshold Status')\n",
    "plt.ylabel('Number of Days')\n",
    "\n",
    "plt.show()"
   ]
  },
  {
   "cell_type": "code",
   "execution_count": null,
   "id": "74b18cf4-ca08-446b-9406-ef13fb1adb27",
   "metadata": {},
   "outputs": [],
   "source": [
    "fig16.savefig('fig16_Number of Days Above vs Below 1.2M Threshold.png', dpi=300, bbox_inches='tight')"
   ]
  },
  {
   "cell_type": "markdown",
   "id": "0af710b1-958a-444b-b6b7-d444990e6ca4",
   "metadata": {},
   "source": [
    ">**Total appointments per national category per ICB per month**"
   ]
  },
  {
   "cell_type": "code",
   "execution_count": null,
   "id": "dc1b9d5b-54e7-440b-9a5b-6eeb10fb125e",
   "metadata": {},
   "outputs": [],
   "source": [
    "# Agg 2 is Total appointments per national category per ICB per month (from nc)\n",
    "# Create nc dataset copy\n",
    "nc_copy = nc.copy()\n",
    "\n",
    "# Collect days into month\n",
    "nc_copy['appointment_month'] = nc_copy['appointment_date'].dt.to_period('M')\n",
    "\n",
    "agg_national_category = (nc_copy.groupby(['icb_ons_code',\n",
    "                                     'sub_icb_location_name',\n",
    "                                     'service_setting',\n",
    "                                     'context_type',\n",
    "                                     'national_category',\n",
    "                                     'appointment_month'])['count_of_appointments']\n",
    "                         .sum()\n",
    "                         .reset_index())\n",
    "\n",
    "agg_national_category.head()"
   ]
  },
  {
   "cell_type": "markdown",
   "id": "49735078-e62a-437d-856e-db97f7712c29",
   "metadata": {},
   "source": [
    ">**Create average utilisation of services column**"
   ]
  },
  {
   "cell_type": "code",
   "execution_count": null,
   "id": "90a7b716-2014-4265-b774-5dcc293b109c",
   "metadata": {},
   "outputs": [],
   "source": [
    "# Previously determined the total number of appointments per month in fig0 lineplot so view df\n",
    "monthly_appt_count.head()"
   ]
  },
  {
   "cell_type": "code",
   "execution_count": null,
   "id": "d55c0532",
   "metadata": {},
   "outputs": [],
   "source": [
    "# Add a new column to indicate the average utilisation of services.\n",
    "monthly_appt_count['average_utilisation'] = monthly_appt_count['count'] / monthly_appt_count['count'].mean()\n",
    "\n",
    "# Monthly aggregate / 30 to get to a daily value.\n",
    "monthly_appt_count['daily_count_average'] = monthly_appt_count['count'] / 30\n",
    "\n",
    "# View the DataFrame.\n",
    "monthly_appt_count.head()"
   ]
  },
  {
   "cell_type": "code",
   "execution_count": null,
   "id": "98b55090-8a40-49b7-9cd0-17b8a47847a1",
   "metadata": {},
   "outputs": [],
   "source": [
    "# Convert the appointment_month to month(period) data type for ease of visualisation.\n",
    "monthly_appt_count['appointment_month'] = monthly_appt_count['appointment_month'].dt.to_period('M')\n",
    "\n",
    "# Filter to only see data from Aug 2021\n",
    "monthly_appt_count_filtered = monthly_appt_count[\n",
    "    monthly_appt_count['appointment_month'] >= pd.Period('2021-08', freq='M')]\n",
    "\n",
    "# Reset index \n",
    "monthly_appt_count_filtered = monthly_appt_count_filtered.reset_index(drop=True)\n",
    "\n",
    "monthly_appt_count_filtered.head()"
   ]
  },
  {
   "cell_type": "code",
   "execution_count": null,
   "id": "e7328c5f-0dec-4566-9c1d-a60f56e95041",
   "metadata": {},
   "outputs": [],
   "source": [
    "# Create a lineplot for monthly capacity\n",
    "# First change date to str\n",
    "monthly_appt_count_filtered['appointment_month_str'] = monthly_appt_count_filtered['appointment_month'].astype(str)\n",
    "\n",
    "fig_explore, ax = plt.subplots(figsize=(12,6))\n",
    "sns.lineplot(data=monthly_appt_count_filtered, x='appointment_month_str',\n",
    "             y='average_utilisation',  marker='o', palette='#FFFFFF')\n",
    "\n",
    "# Title and Label\n",
    "plt.title('Monthly Average Utilisation from Sep 2021 onwards')\n",
    "plt.xlabel('Month')\n",
    "plt.ylabel('Average Utilisation')\n",
    "plt.xticks(rotation=45)\n",
    "\n",
    "plt.show()"
   ]
  },
  {
   "cell_type": "code",
   "execution_count": null,
   "id": "794606d7-d24b-4f10-8511-b5b9e5d2b1c1",
   "metadata": {},
   "outputs": [],
   "source": [
    "# Tweak graph to show target utilisation \n",
    "# First change date to str\n",
    "monthly_appt_count_filtered['appointment_month_str'] = monthly_appt_count_filtered['appointment_month'].astype(str)\n",
    "\n",
    "fig15, ax = plt.subplots(figsize=(12,6))\n",
    "sns.lineplot(data=monthly_appt_count_filtered, x='appointment_month_str',\n",
    "             y='average_utilisation',  marker='o', palette='#FFFFFF')\n",
    "\n",
    "# Add horizontal line at y=1.0\n",
    "ax.axhline(y=1.0, color='tab:orange', linestyle='--')\n",
    "\n",
    "# Title and Label\n",
    "plt.title('Monthly Average Utilisation from Aug 2021 onwards', fontsize=18, pad=20)\n",
    "plt.xlabel('Month', fontsize=14)\n",
    "plt.ylabel('Average Utilisation', fontsize=14)\n",
    "plt.xticks(rotation=45)\n",
    "\n",
    "plt.show()"
   ]
  },
  {
   "cell_type": "code",
   "execution_count": null,
   "id": "11cdeaa0-ed04-4e60-befc-f8a0c984724b",
   "metadata": {},
   "outputs": [],
   "source": [
    "fig15.savefig('fig15_Monthly Average Utilisation from Aug 2021 onwards', dpi=300, bbox_inches='tight')"
   ]
  },
  {
   "cell_type": "code",
   "execution_count": null,
   "id": "ae167895-5c3e-47f6-8f85-82eb5ccaee71",
   "metadata": {},
   "outputs": [],
   "source": [
    "# Let's see with all data months what the trend is to understand change from 2020-2022\n",
    "monthly_appt_count['appointment_month_str'] = monthly_appt_count['appointment_month'].astype(str)\n",
    "\n",
    "fig_explore, ax = plt.subplots(figsize=(12,6))\n",
    "sns.lineplot(data=monthly_appt_count, x='appointment_month_str',\n",
    "             y='average_utilisation',  marker='o', palette='#FFFFFF')\n",
    "\n",
    "# Add horizontal line at y=1.0\n",
    "ax.axhline(y=1.0, color='tab:orange', linestyle='--', label='Target Utilisation')\n",
    "\n",
    "# Title and Label\n",
    "plt.title('Monthly Average Utilisation from Jan 2020 onwards', fontsize=18, pad=20)\n",
    "plt.xlabel('Month', fontsize=14)\n",
    "plt.ylabel('Average Utilisation', fontsize=14)\n",
    "plt.xticks(rotation=45)\n",
    "\n",
    "plt.show()"
   ]
  },
  {
   "cell_type": "markdown",
   "id": "eb893b06",
   "metadata": {},
   "source": [
    "**Question 2:** How do the healthcare professional types differ over time?"
   ]
  },
  {
   "cell_type": "code",
   "execution_count": null,
   "id": "4179ad07",
   "metadata": {},
   "outputs": [],
   "source": [
    "# Aggregate\n",
    "hcp_trends = (ar.groupby(['appointment_month', 'hcp_type'])['count_of_appointments']\n",
    "              .sum()\n",
    "              .reset_index())\n",
    "\n",
    "hcp_trends.head()"
   ]
  },
  {
   "cell_type": "code",
   "execution_count": null,
   "id": "5e7148fb-fe08-46a9-acb4-81ea46ca0679",
   "metadata": {},
   "outputs": [],
   "source": [
    "# Create a line plot to answer the question\n",
    "# Convert month to string for x-axis\n",
    "hcp_trends['appointment_month_str'] = hcp_trends['appointment_month'].astype(str)\n",
    "\n",
    "hcp_trends = hcp_trends[hcp_trends['appointment_month'] >= '2021-08']\n",
    "\n",
    "# Count in million assign to axis\n",
    "hcp_trends['count_of_appointments_million'] = hcp_trends['count_of_appointments'] / 1e6\n",
    "\n",
    "# Create lineplot\n",
    "fig_explore, ax = plt.subplots(figsize=(12,6))\n",
    "sns.lineplot(data=hcp_trends, x='appointment_month_str',\n",
    "             y='count_of_appointments_million',\n",
    "             hue='hcp_type',marker='o')\n",
    "\n",
    "# Title and Labels\n",
    "plt.title('Trends in Appointments by HCP Type Over Time', fontsize=18, pad=20)\n",
    "plt.xlabel('Month', fontsize=14)\n",
    "plt.ylabel('Number of Appointments (million)', fontsize=14)\n",
    "plt.xticks(rotation=45)\n",
    "\n",
    "# Legend\n",
    "plt.legend(title = 'HCP Type')\n",
    "\n",
    "plt.show()"
   ]
  },
  {
   "cell_type": "markdown",
   "id": "04d7214b",
   "metadata": {},
   "source": [
    ">**Question 3:** Are there significant changes in whether or not visits are attended?"
   ]
  },
  {
   "cell_type": "markdown",
   "id": "461807aa-580c-4b5b-8fce-846f79dfb798",
   "metadata": {},
   "source": [
    ">**Attendance rates overtime**"
   ]
  },
  {
   "cell_type": "code",
   "execution_count": null,
   "id": "e04c1fea",
   "metadata": {},
   "outputs": [],
   "source": [
    "# Aggregate counts\n",
    "attend_trends = (ar.groupby(['appointment_month', 'appointment_status'])['count_of_appointments']\n",
    "                     .sum()\n",
    "                     .reset_index())\n",
    "\n",
    "# This would show number attended not attendance rate so need to find proportional change to overall appointment count\n",
    "# Total appointments per month\n",
    "total_per_month = (attend_trends.groupby('appointment_month')['count_of_appointments']\n",
    "                   .sum().reset_index())\n",
    "total_per_month.rename(columns={'count_of_appointments':'total_appointments'}, inplace=True)\n",
    "\n",
    "#  Merge totals and calculate attendance rate \n",
    "attend_trends = attend_trends.merge(total_per_month, on='appointment_month')\n",
    "attend_trends['attendance_rate'] = attend_trends['count_of_appointments'] / attend_trends['total_appointments']\n",
    "\n",
    "# Only show attended\n",
    "attend_trends = attend_trends[attend_trends['appointment_status'].isin(['Attended'])]\n",
    "attend_trends  = attend_trends[attend_trends ['appointment_month'] >= '2021-08']\n",
    "\n",
    "# Convert month to str\n",
    "attend_trends['appointment_month_str'] = attend_trends['appointment_month'].astype(str)\n",
    "\n",
    "# Create a line plot to answer the question.\n",
    "fig11, ax = plt.subplots(figsize=(12,6))\n",
    "sns.lineplot(data=attend_trends, x='appointment_month_str', y='attendance_rate', \n",
    "             hue='appointment_status', marker='o', color = '#005EB8', legend=False)\n",
    "\n",
    "# Title and label\n",
    "plt.title('Attendance rates from Aug 2021', fontsize = 18, pad=20)\n",
    "plt.xlabel('Month', fontsize = 14)\n",
    "plt.ylabel('Attendance Rate', fontsize = 14)\n",
    "plt.xticks(rotation=45)\n",
    "\n",
    "plt.show()"
   ]
  },
  {
   "cell_type": "code",
   "execution_count": null,
   "id": "8a37968b-7d54-432e-91cf-13f17747d816",
   "metadata": {},
   "outputs": [],
   "source": [
    "fig11.savefig('fig11_Attendance rates from Aug 2021', dpi=300, bbox_inches='tight')"
   ]
  },
  {
   "cell_type": "markdown",
   "id": "7830f29e",
   "metadata": {},
   "source": [
    ">**Question 4:** Are there changes in terms of appointment type and the busiest months?"
   ]
  },
  {
   "cell_type": "markdown",
   "id": "e6ee4d0a-6dfc-40bf-bfd8-68fb13db932b",
   "metadata": {},
   "source": [
    ">**Appointment mode overtime**"
   ]
  },
  {
   "cell_type": "code",
   "execution_count": null,
   "id": "8b0e203c",
   "metadata": {},
   "outputs": [],
   "source": [
    "appt_mode_trends = (ar.groupby(['appointment_month', 'appointment_mode'])['count_of_appointments']\n",
    "                    .sum()\n",
    "                    .reset_index())\n",
    "\n",
    "# Filter from August 2021 onwards\n",
    "appt_mode_trends = appt_mode_trends[appt_mode_trends['appointment_month'] >= '2021-08']\n",
    "\n",
    "# Convert month to string for plotting\n",
    "appt_mode_trends['appointment_month_str'] = appt_mode_trends['appointment_month'].astype(str)\n",
    "\n",
    "# Count in millions for y axis\n",
    "appt_mode_trends['count_of_appointments_millions']=appt_mode_trends['count_of_appointments'] / 1e6\n",
    "\n",
    "# Create a lineplot \n",
    "fig_explore, ax = plt.subplots(figsize=(12,6))\n",
    "sns.lineplot(data=appt_mode_trends, x='appointment_month_str',\n",
    "             y='count_of_appointments_millions', hue='appointment_mode', marker='o')\n",
    "\n",
    "# Titles and labels\n",
    "plt.title('Face-to-Face appointments are the most common appointment mode', fontsize=18, pad=20)\n",
    "plt.xlabel('Month', fontsize=14)\n",
    "plt.ylabel('Count of Appointments (million)', fontsize=14)\n",
    "plt.xticks(rotation=45)\n",
    "\n",
    "#Legend\n",
    "plt.legend(title='Appointment Mode', bbox_to_anchor=(1, 1), loc='upper left')\n",
    "\n",
    "plt.show()"
   ]
  },
  {
   "cell_type": "markdown",
   "id": "99d9c30f-7df1-4921-baec-7746a3cb51c4",
   "metadata": {},
   "source": [
    ">**National category overtime**"
   ]
  },
  {
   "cell_type": "code",
   "execution_count": null,
   "id": "b81d9a6e-4a88-46bb-a89e-c368fb8de512",
   "metadata": {},
   "outputs": [],
   "source": [
    "appt_natcat_trends = (nc.groupby(['appointment_month', 'national_category'])['count_of_appointments']  \n",
    "                      .sum() \n",
    "                      .reset_index())\n",
    "\n",
    "# Filter from August 2021 onwards\n",
    "appt_natcat_trends = appt_natcat_trends[appt_natcat_trends['appointment_month'] >= '2021-08']\n",
    "\n",
    "# Convert month to string for plotting\n",
    "appt_natcat_trends['appointment_month_str'] = appt_natcat_trends['appointment_month'].astype(str)\n",
    "\n",
    "# Count in millions for y axis\n",
    "appt_natcat_trends['count_of_appointments_millions']=appt_natcat_trends['count_of_appointments'] / 1e6\n",
    "\n",
    "# Sort categories by their latest values (so legend follows line order)\n",
    "latest_month = appt_natcat_trends['appointment_month'].max()\n",
    "legend_order = (appt_natcat_trends[appt_natcat_trends['appointment_month'] == latest_month]  \n",
    "                .sort_values('count_of_appointments_millions', ascending=False)['national_category'] \n",
    "                .tolist())\n",
    "\n",
    "# Create a lineplot \n",
    "fig_explore, ax = plt.subplots(figsize=(12,6))\n",
    "sns.lineplot( data=appt_natcat_trends, x='appointment_month_str',  \n",
    "             y='count_of_appointments', hue='national_category',\n",
    "             hue_order=legend_order,marker='o')\n",
    "\n",
    "# Titles and labels\n",
    "plt.title('General Consultation Route is the most common consultation type', fontsize=18, pad=20)\n",
    "plt.xlabel('Month', fontsize=14)\n",
    "plt.ylabel('Count of Appointments (million)', fontsize=14)\n",
    "plt.xticks(rotation=45)\n",
    "\n",
    "# Legend (ordered same as plot)\n",
    "plt.legend(title='National Category', bbox_to_anchor=(0.5, -0.25),   \n",
    "           loc='upper center', ncol=3, fontsize=10)\n",
    "\n",
    "plt.show()"
   ]
  },
  {
   "cell_type": "markdown",
   "id": "4418522b-1f24-4902-b224-6be48393bbe2",
   "metadata": {},
   "source": [
    "**Actual duration of appointments overtime**"
   ]
  },
  {
   "cell_type": "code",
   "execution_count": null,
   "id": "71ccb4d2-ff67-4115-b6ed-5909260b7a54",
   "metadata": {},
   "outputs": [],
   "source": [
    "appt_duration_trends = (ad_copy.groupby(['appointment_month', 'actual_duration'])['count_of_appointments']  \n",
    "                      .sum() \n",
    "                      .reset_index())\n",
    "\n",
    "# Filter from August 2021 onwards\n",
    "appt_duration_trends = appt_duration_trends[appt_duration_trends['appointment_month'] >= '2021-08']\n",
    "\n",
    "# Convert month to string for plotting\n",
    "appt_duration_trends['appointment_month_str'] = appt_duration_trends['appointment_month'].astype(str)\n",
    "\n",
    "# Count in millions for y axis\n",
    "appt_duration_trends['count_of_appointments_millions']=appt_duration_trends['count_of_appointments'] / 1e6\n",
    "\n",
    "# Create a lineplot \n",
    "fig_explore, ax = plt.subplots(figsize=(12,6))\n",
    "sns.lineplot( data=appt_duration_trends, x='appointment_month_str',  \n",
    "             y='count_of_appointments_millions', hue='actual_duration', marker='o')\n",
    "\n",
    "# Titles and labels\n",
    "plt.title('Appointment trends by actual duration over time', fontsize=18, pad=20)\n",
    "plt.xlabel('Month', fontsize=14)\n",
    "plt.ylabel('Count of Appointments (million)', fontsize=14)\n",
    "plt.xticks(rotation=45)\n",
    "\n",
    "# Legend (below the graph)\n",
    "plt.legend(title='Actual Duration')\n",
    "\n",
    "plt.show()"
   ]
  },
  {
   "cell_type": "markdown",
   "id": "56b47fa9",
   "metadata": {},
   "source": [
    ">**Question 5:** Are there any trends in time between booking and appointment?\n",
    "\n",
    "Previously answered in Activity 4, Objective 3 script"
   ]
  },
  {
   "cell_type": "markdown",
   "id": "1047943e",
   "metadata": {},
   "source": [
    ">**Question 6:** How do the various service settings compare?"
   ]
  },
  {
   "cell_type": "code",
   "execution_count": null,
   "id": "b3b6f791",
   "metadata": {},
   "outputs": [],
   "source": [
    "# Let's go back to the national category DataFrame you created in an earlier assignment activity.\n",
    "print(nc.dtypes)\n",
    "nc.head()"
   ]
  },
  {
   "cell_type": "code",
   "execution_count": null,
   "id": "48cae630-f72c-467c-830a-fab5f7f554db",
   "metadata": {},
   "outputs": [],
   "source": [
    "# Create a new DataFrame to vuiew spread of appointments by service setting\n",
    "nc_monthly_appt_count = (nc.groupby(['appointment_month', 'service_setting', 'icb_ons_code', \n",
    "                                     'sub_icb_location_name', 'context_type', 'national_category'])['count_of_appointments']\n",
    "                         .sum()\n",
    "                         .reset_index())\n",
    "\n",
    "# Remove unmapped\n",
    "nc_monthly_appt_count = nc_monthly_appt_count[nc_monthly_appt_count['service_setting'] != 'Unmapped']\n",
    "\n",
    "nc_monthly_appt_count.head()"
   ]
  },
  {
   "cell_type": "code",
   "execution_count": null,
   "id": "8b524499",
   "metadata": {},
   "outputs": [],
   "source": [
    "# Create a boxplot in Seaborn based on the new DataFrame to indicate the service settings for the number of appointments.\n",
    "fig_explore, ax = plt.subplots(figsize=(12,6))\n",
    "sns.boxplot(\n",
    "    data=nc_monthly_appt_count,\n",
    "    x='appointment_month',\n",
    "    y='count_of_appointments',\n",
    "    hue='service_setting',\n",
    "    palette='Dark2', fliersize=2)\n",
    "\n",
    "plt.show()"
   ]
  },
  {
   "cell_type": "markdown",
   "id": "f11c67c5-ff72-424e-a035-ee8381bd8f53",
   "metadata": {},
   "source": [
    "<span style=\"color:brown\"><b>Note: Hard to read and interpret/understand what the graph is showing </b></span>"
   ]
  },
  {
   "cell_type": "markdown",
   "id": "bce97dce-e244-4d7d-9b4a-43ac08750609",
   "metadata": {},
   "source": [
    ">**Find distribution excluding GP visits**"
   ]
  },
  {
   "cell_type": "code",
   "execution_count": null,
   "id": "c8c2c69c",
   "metadata": {},
   "outputs": [],
   "source": [
    "# Create a boxplot in Seaborn where you concentrate on all the service settings, excluding GP visits.\n",
    "# Create a new DataFrame to vuiew spread of appointments by service setting\n",
    "nc_monthly_appt_count_2 = (nc.groupby(['appointment_month', 'service_setting', \n",
    "                                       'sub_icb_location_name', 'national_category'])['count_of_appointments']\n",
    "                         .sum()\n",
    "                         .reset_index())\n",
    "\n",
    "# Remove GP\n",
    "nc_monthly_appt_count_2 = nc_monthly_appt_count[nc_monthly_appt_count['service_setting'] != 'General Practice']\n",
    "\n",
    "fig17, ax = plt.subplots(figsize=(12,6))\n",
    "sns.boxplot(\n",
    "    data=nc_monthly_appt_count_2,\n",
    "    x='appointment_month',\n",
    "    y='count_of_appointments',\n",
    "    hue='service_setting',\n",
    "    palette='tab20c', fliersize=2)\n",
    "\n",
    "# Titles and labels\n",
    "plt.title('Distribution of appointments by month and service setting', fontsize=18, pad=20)\n",
    "plt.xlabel('Appointment Month', fontsize=14)\n",
    "plt.ylabel('Number of Appointments', fontsize=14)\n",
    "plt.xticks(rotation=45)\n",
    "\n",
    "# Legend\n",
    "plt.legend(title='Service Setting', bbox_to_anchor=(1, 1), loc='upper left', fontsize=10)\n",
    "\n",
    "plt.tight_layout()\n",
    "plt.show()"
   ]
  },
  {
   "cell_type": "code",
   "execution_count": null,
   "id": "025e1390-d566-480a-b871-a2a9a7b4dea0",
   "metadata": {},
   "outputs": [],
   "source": [
    "fig17.savefig('fig17_Distribution of appointment counts by month and service setting', dpi=300, bbox_inches='tight')"
   ]
  },
  {
   "cell_type": "markdown",
   "id": "6795d05b-88d9-44d5-b98d-1fa138551f74",
   "metadata": {},
   "source": [
    "> **Distribution by appointment duration - overall**"
   ]
  },
  {
   "cell_type": "code",
   "execution_count": null,
   "id": "744dfd59-4c56-4520-8fb2-78d1ccdf6173",
   "metadata": {},
   "outputs": [],
   "source": [
    "actual_duration_monthly_appt_count = (agg_sub_icb.groupby(['sub_icb_location_name', 'actual_duration'])\n",
    "                                      ['count_of_appointments']\n",
    "                                      .sum()\n",
    "                                      .reset_index())\n",
    "actual_duration_monthly_appt_count.head()"
   ]
  },
  {
   "cell_type": "code",
   "execution_count": null,
   "id": "77001c88-098b-4404-8bb1-54928c3e3375",
   "metadata": {},
   "outputs": [],
   "source": [
    "# Create boxplot \n",
    "fig_explore, ax = plt.subplots(figsize=(12,6))\n",
    "sns.boxplot(\n",
    "    data=actual_duration_monthly_appt_count, x='actual_duration',\n",
    "    y='count_of_appointments', legend=False)\n",
    "\n",
    "# Titles and labels\n",
    "plt.title('Distribution of appointment by appointment duration', fontsize=18, pad=20)\n",
    "plt.xlabel('Appointment Month', fontsize=14)\n",
    "plt.ylabel('Number of Appointments (million)', fontsize=14)\n",
    "plt.xticks(rotation=45)\n",
    "\n",
    "plt.show()"
   ]
  },
  {
   "cell_type": "code",
   "execution_count": null,
   "id": "794eeb35-3f70-4497-bdc9-d4b0d356f567",
   "metadata": {},
   "outputs": [],
   "source": [
    "actual_duration_monthly_appt_count_15 = (agg_sub_icb.groupby(['appointment_month', 'sub_icb_location_name', 'actual_duration'])\n",
    "                                      ['count_of_appointments']\n",
    "                                      .sum()\n",
    "                                      .reset_index())\n",
    "actual_duration_monthly_appt_count_15.head()\n",
    "\n",
    "# Define the target durations\n",
    "actual_duration_15_target = ['1-5 Minutes', '6-10 Minutes', '11-15 Minutes']\n",
    "\n",
    "# Filter the dataframe to only include the desired durations\n",
    "actual_duration_monthly_appt_count_15 = actual_duration_monthly_appt_count_15[\n",
    "    actual_duration_monthly_appt_count_15['actual_duration'].isin(actual_duration_15_target)]\n",
    "\n",
    "# Create boxplot\n",
    "fig_explore, ax = plt.subplots(figsize=(12,6))\n",
    "sns.boxplot(\n",
    "    data=actual_duration_monthly_appt_count_15, x='appointment_month',\n",
    "    y='count_of_appointments', hue='actual_duration', palette='tab20c')\n",
    "\n",
    "# Titles and labels\n",
    "plt.title('Distribution of appointments that fall within the 15 mins appointment target', fontsize=18, pad=20)\n",
    "plt.xlabel('Appointment Month', fontsize=14)\n",
    "plt.ylabel('Number of Appointments (million)', fontsize=14)\n",
    "plt.xticks(rotation=45)\n",
    "\n",
    "# Legend\n",
    "plt.legend(title='Actual Duration')\n",
    "\n",
    "plt.show()"
   ]
  },
  {
   "cell_type": "markdown",
   "id": "f3521285",
   "metadata": {},
   "source": [
    "# "
   ]
  },
  {
   "cell_type": "markdown",
   "id": "fdd46686",
   "metadata": {},
   "source": [
    "### Provide a summary of your findings and recommendations based on the analysis."
   ]
  },
  {
   "cell_type": "markdown",
   "id": "afb38a10",
   "metadata": {},
   "source": [
    "> Double click to insert your summary."
   ]
  },
  {
   "cell_type": "markdown",
   "id": "44c10664-47ae-4f08-bcd0-806c7778e006",
   "metadata": {},
   "source": [
    "### **Here are my brief recommendations**\n",
    "\n",
    "**Better workload distribution:**\n",
    "Many days exceed planned thresholds, putting pressure on GPs. Better workload distribution across services (like Extended Access and PCN sites) and using underutilised capacity could ease demand.\n",
    "\n",
    "**Workforce & recruitment:**\n",
    "Strengthening staffing through cross-training and geospatially targeted locum allocation ensures services meet demand and maintains care quality.\n",
    "\n",
    "**Target Missed Appointments:**\n",
    "Non-GP and face-to-face appointments are often missed. Targeted reminders, remote options, and flexible rescheduling could reduce no-shows and improve patient outcomes.\n",
    "\n",
    "**Digital Adoption:**\n",
    "Video and online consultations are underused. Expanding digital services, with training and patient awareness, could improve access and continuity of care.\n",
    "\n",
    "**Data Quality Issues:**\n",
    "- Around 40% of appointment duration data is missing.\n",
    "- Non-attendance reasons are not recorded.\n",
    "- Standardising time-tracking and recording missed appointment reasons would improve forecasting and operational planning.\n",
    "\n",
    "**Patient Behaviour Changes:**\n",
    "Post-pandemic trends show shorter booking times and more same-day appointments. Further analysis is needed to understand whether this is due to access issues, preferences or system design.\n",
    "\n",
    "**Seasonal & Regional Trends:**\n",
    "Winter pressures and north-south differences affect demand. Predictive analytics could help monitor and plan for these variations.\n",
    "\n",
    "**Further Data Needed:**\n",
    "- Reasons for cancellations/non-attendance\n",
    "- More detailed geographic information\n",
    "- Consistent time-stamping of actual vs scheduled durations\n",
    "- Workforce and staffing data to understand operational strain\n",
    "\n",
    "**Challenges:**\n",
    "Data gaps, inconsistent dataset mapping and limited contextual information (e.g., patient demographics) made analysis harder."
   ]
  },
  {
   "cell_type": "code",
   "execution_count": null,
   "id": "9433486a-084c-43f6-91d1-31b9e415fab4",
   "metadata": {},
   "outputs": [],
   "source": []
  },
  {
   "cell_type": "code",
   "execution_count": null,
   "id": "a177e33a-e760-4e76-a9d3-a16290dab642",
   "metadata": {},
   "outputs": [],
   "source": []
  }
 ],
 "metadata": {
  "kernelspec": {
   "display_name": "Python 3 (ipykernel)",
   "language": "python",
   "name": "python3"
  },
  "language_info": {
   "codemirror_mode": {
    "name": "ipython",
    "version": 3
   },
   "file_extension": ".py",
   "mimetype": "text/x-python",
   "name": "python",
   "nbconvert_exporter": "python",
   "pygments_lexer": "ipython3",
   "version": "3.13.5"
  }
 },
 "nbformat": 4,
 "nbformat_minor": 5
}
